{
  "cells": [
    {
      "cell_type": "markdown",
      "metadata": {
        "id": "hvoG68P7VuGp"
      },
      "source": [
        "# Cleaning the data"
      ]
    },
    {
      "cell_type": "code",
      "execution_count": 1,
      "metadata": {
        "colab": {
          "base_uri": "https://localhost:8080/",
          "height": 539
        },
        "id": "3Dw-Sh2HUG1n",
        "outputId": "38be2589-aac4-4ab0-b032-1952212fcd48"
      },
      "outputs": [
        {
          "data": {
            "text/html": [
              "<div>\n",
              "<style scoped>\n",
              "    .dataframe tbody tr th:only-of-type {\n",
              "        vertical-align: middle;\n",
              "    }\n",
              "\n",
              "    .dataframe tbody tr th {\n",
              "        vertical-align: top;\n",
              "    }\n",
              "\n",
              "    .dataframe thead th {\n",
              "        text-align: right;\n",
              "    }\n",
              "</style>\n",
              "<table border=\"1\" class=\"dataframe\">\n",
              "  <thead>\n",
              "    <tr style=\"text-align: right;\">\n",
              "      <th></th>\n",
              "      <th>movie_id</th>\n",
              "      <th>title</th>\n",
              "      <th>overview</th>\n",
              "      <th>genres</th>\n",
              "      <th>keywords</th>\n",
              "      <th>cast</th>\n",
              "      <th>crew</th>\n",
              "      <th>vote_average</th>\n",
              "      <th>popularity</th>\n",
              "    </tr>\n",
              "  </thead>\n",
              "  <tbody>\n",
              "    <tr>\n",
              "      <th>0</th>\n",
              "      <td>19995</td>\n",
              "      <td>Avatar</td>\n",
              "      <td>[In, the, 22nd, century,, a, paraplegic, Marin...</td>\n",
              "      <td>[Action, Adventure, Fantasy, ScienceFiction]</td>\n",
              "      <td>[cultureclash, future, spacewar, spacecolony, ...</td>\n",
              "      <td>[SamWorthington, ZoeSaldana, SigourneyWeaver]</td>\n",
              "      <td>[JamesCameron]</td>\n",
              "      <td>7.2</td>\n",
              "      <td>150.437577</td>\n",
              "    </tr>\n",
              "    <tr>\n",
              "      <th>1</th>\n",
              "      <td>285</td>\n",
              "      <td>Pirates of the Caribbean: At World's End</td>\n",
              "      <td>[Captain, Barbossa,, long, believed, to, be, d...</td>\n",
              "      <td>[Adventure, Fantasy, Action]</td>\n",
              "      <td>[ocean, drugabuse, exoticisland, eastindiatrad...</td>\n",
              "      <td>[JohnnyDepp, OrlandoBloom, KeiraKnightley]</td>\n",
              "      <td>[GoreVerbinski]</td>\n",
              "      <td>6.9</td>\n",
              "      <td>139.082615</td>\n",
              "    </tr>\n",
              "    <tr>\n",
              "      <th>2</th>\n",
              "      <td>206647</td>\n",
              "      <td>Spectre</td>\n",
              "      <td>[A, cryptic, message, from, Bond’s, past, send...</td>\n",
              "      <td>[Action, Adventure, Crime]</td>\n",
              "      <td>[spy, basedonnovel, secretagent, sequel, mi6, ...</td>\n",
              "      <td>[DanielCraig, ChristophWaltz, LéaSeydoux]</td>\n",
              "      <td>[SamMendes]</td>\n",
              "      <td>6.3</td>\n",
              "      <td>107.376788</td>\n",
              "    </tr>\n",
              "    <tr>\n",
              "      <th>3</th>\n",
              "      <td>49026</td>\n",
              "      <td>The Dark Knight Rises</td>\n",
              "      <td>[Following, the, death, of, District, Attorney...</td>\n",
              "      <td>[Action, Crime, Drama, Thriller]</td>\n",
              "      <td>[dccomics, crimefighter, terrorist, secretiden...</td>\n",
              "      <td>[ChristianBale, MichaelCaine, GaryOldman]</td>\n",
              "      <td>[ChristopherNolan]</td>\n",
              "      <td>7.6</td>\n",
              "      <td>112.312950</td>\n",
              "    </tr>\n",
              "    <tr>\n",
              "      <th>4</th>\n",
              "      <td>49529</td>\n",
              "      <td>John Carter</td>\n",
              "      <td>[John, Carter, is, a, war-weary,, former, mili...</td>\n",
              "      <td>[Action, Adventure, ScienceFiction]</td>\n",
              "      <td>[basedonnovel, mars, medallion, spacetravel, p...</td>\n",
              "      <td>[TaylorKitsch, LynnCollins, SamanthaMorton]</td>\n",
              "      <td>[AndrewStanton]</td>\n",
              "      <td>6.1</td>\n",
              "      <td>43.926995</td>\n",
              "    </tr>\n",
              "  </tbody>\n",
              "</table>\n",
              "</div>"
            ],
            "text/plain": [
              "   movie_id                                     title  \\\n",
              "0     19995                                    Avatar   \n",
              "1       285  Pirates of the Caribbean: At World's End   \n",
              "2    206647                                   Spectre   \n",
              "3     49026                     The Dark Knight Rises   \n",
              "4     49529                               John Carter   \n",
              "\n",
              "                                            overview  \\\n",
              "0  [In, the, 22nd, century,, a, paraplegic, Marin...   \n",
              "1  [Captain, Barbossa,, long, believed, to, be, d...   \n",
              "2  [A, cryptic, message, from, Bond’s, past, send...   \n",
              "3  [Following, the, death, of, District, Attorney...   \n",
              "4  [John, Carter, is, a, war-weary,, former, mili...   \n",
              "\n",
              "                                         genres  \\\n",
              "0  [Action, Adventure, Fantasy, ScienceFiction]   \n",
              "1                  [Adventure, Fantasy, Action]   \n",
              "2                    [Action, Adventure, Crime]   \n",
              "3              [Action, Crime, Drama, Thriller]   \n",
              "4           [Action, Adventure, ScienceFiction]   \n",
              "\n",
              "                                            keywords  \\\n",
              "0  [cultureclash, future, spacewar, spacecolony, ...   \n",
              "1  [ocean, drugabuse, exoticisland, eastindiatrad...   \n",
              "2  [spy, basedonnovel, secretagent, sequel, mi6, ...   \n",
              "3  [dccomics, crimefighter, terrorist, secretiden...   \n",
              "4  [basedonnovel, mars, medallion, spacetravel, p...   \n",
              "\n",
              "                                            cast                crew  \\\n",
              "0  [SamWorthington, ZoeSaldana, SigourneyWeaver]      [JamesCameron]   \n",
              "1     [JohnnyDepp, OrlandoBloom, KeiraKnightley]     [GoreVerbinski]   \n",
              "2      [DanielCraig, ChristophWaltz, LéaSeydoux]         [SamMendes]   \n",
              "3      [ChristianBale, MichaelCaine, GaryOldman]  [ChristopherNolan]   \n",
              "4    [TaylorKitsch, LynnCollins, SamanthaMorton]     [AndrewStanton]   \n",
              "\n",
              "   vote_average  popularity  \n",
              "0           7.2  150.437577  \n",
              "1           6.9  139.082615  \n",
              "2           6.3  107.376788  \n",
              "3           7.6  112.312950  \n",
              "4           6.1   43.926995  "
            ]
          },
          "execution_count": 1,
          "metadata": {},
          "output_type": "execute_result"
        }
      ],
      "source": [
        "import ast\n",
        "import pandas as pd\n",
        "import numpy as np\n",
        "\n",
        "def cleanmoviedb():    #cleaning and preparing the database\n",
        "  movies = pd.read_csv('tmdb_5000_movies.csv')\n",
        "  credits = pd.read_csv('tmdb_5000_credits.csv')\n",
        "  movies= pd.merge(movies, credits, on ='title')\n",
        "  movies = movies[['movie_id','title','overview','genres','keywords','cast','crew','vote_average','popularity']]\n",
        "  movies.dropna(inplace=True)\n",
        "\n",
        "  def clean(tobecleaned):\n",
        "    cleanlist = []\n",
        "    for item in ast.literal_eval(tobecleaned):\n",
        "      cleanlist.append(item['name'])\n",
        "    return cleanlist\n",
        "\n",
        "  movies['genres'] = movies['genres'].apply(clean)\n",
        "  movies['keywords'] = movies['keywords'].apply(clean)\n",
        "\n",
        "  def top3clean(tobecleaned): #cast-returns only top 3 cast member's names\n",
        "    cleanlist = []\n",
        "    counter = 0\n",
        "    for item in ast.literal_eval(tobecleaned):\n",
        "      if counter!= 3:\n",
        "        cleanlist.append(item['name'])\n",
        "        counter+=1\n",
        "      else:\n",
        "        break\n",
        "    return cleanlist\n",
        "\n",
        "  movies['cast'] = movies['cast'].apply(top3clean)\n",
        "\n",
        "  def fetchdirector(tobecleaned):\n",
        "    cleanlist = []\n",
        "    for item in ast.literal_eval(tobecleaned):\n",
        "      if item['job'] == 'Director' :\n",
        "        cleanlist.append(item['name'])\n",
        "        break\n",
        "    return cleanlist\n",
        "\n",
        "  movies['crew'] = movies['crew'].apply(fetchdirector)\n",
        "  movies['overview'] = movies['overview'].apply(lambda x: x.split())\n",
        "  movies['genres'] = movies['genres'].apply(lambda x:[i.replace(\" \",\"\") for i in x])\n",
        "  movies['keywords'] = movies['keywords'].apply(lambda x:[i.replace(\" \",\"\") for i in x])\n",
        "  movies['cast'] = movies['cast'].apply(lambda x:[i.replace(\" \",\"\") for i in x])\n",
        "  movies['crew'] = movies['crew'].apply(lambda x:[i.replace(\" \",\"\") for i in x])\n",
        "\n",
        "  movies.to_csv('model_ready_movies_db.csv')\n",
        "  return movies    #has id, title, keywords, overview, genre, cast, crew - cleaned in proper list format\n",
        "\n",
        "model_movies_df = cleanmoviedb()\n",
        "model_movies_df.head()"
      ]
    },
    {
      "cell_type": "code",
      "execution_count": 1,
      "metadata": {},
      "outputs": [],
      "source": [
        "import pandas as pd\n",
        "import numpy as np\n",
        "model_movies_df = pd.read_csv(\"../5000 records/model_ready_movies_db.csv\")"
      ]
    },
    {
      "cell_type": "code",
      "execution_count": 2,
      "metadata": {},
      "outputs": [
        {
          "name": "stdout",
          "output_type": "stream",
          "text": [
            "['Action', 'Adventure', 'Fantasy', 'ScienceFiction']\n",
            "<class 'str'>\n",
            "<class 'str'>\n"
          ]
        }
      ],
      "source": [
        "print(model_movies_df.iloc[0]['genres'])\n",
        "print(type(model_movies_df.iloc[0]['genres']))\n",
        "print(type(model_movies_df.iloc[0]['genres'][0]))"
      ]
    },
    {
      "cell_type": "code",
      "execution_count": 5,
      "metadata": {},
      "outputs": [
        {
          "data": {
            "text/plain": [
              "Index(['Unnamed: 0', 'movie_id', 'title', 'overview', 'genres', 'keywords',\n",
              "       'cast', 'crew', 'vote_average', 'popularity', 'tags'],\n",
              "      dtype='object')"
            ]
          },
          "execution_count": 5,
          "metadata": {},
          "output_type": "execute_result"
        }
      ],
      "source": [
        "model_movies_df.columns"
      ]
    },
    {
      "cell_type": "code",
      "execution_count": 3,
      "metadata": {},
      "outputs": [],
      "source": [
        "import ast\n",
        "model_movies_df['genres'] = model_movies_df['genres'].apply(ast.literal_eval)\n",
        "model_movies_df['overview'] = model_movies_df['overview'].apply(ast.literal_eval)\n",
        "#model_movies_df['IMAGE INFO'] = model_movies_df['IMAGE INFO'].apply(ast.literal_eval)\n",
        "model_movies_df['keywords'] = model_movies_df['keywords'].apply(ast.literal_eval)\n",
        "model_movies_df['cast'] = model_movies_df['cast'].apply(ast.literal_eval)\n",
        "model_movies_df['crew'] = model_movies_df['crew'].apply(ast.literal_eval)"
      ]
    },
    {
      "cell_type": "code",
      "execution_count": 3,
      "metadata": {},
      "outputs": [
        {
          "data": {
            "text/plain": [
              "Unnamed: 0        int64\n",
              "movie_id          int64\n",
              "title            object\n",
              "overview         object\n",
              "genres           object\n",
              "keywords         object\n",
              "cast             object\n",
              "crew             object\n",
              "vote_average    float64\n",
              "popularity      float64\n",
              "dtype: object"
            ]
          },
          "execution_count": 3,
          "metadata": {},
          "output_type": "execute_result"
        }
      ],
      "source": [
        "model_movies_df.dtypes"
      ]
    },
    {
      "cell_type": "markdown",
      "metadata": {
        "id": "8WOb0A0oVlqu"
      },
      "source": [
        "# Single Movie input by user"
      ]
    },
    {
      "cell_type": "code",
      "execution_count": 4,
      "metadata": {
        "colab": {
          "base_uri": "https://localhost:8080/"
        },
        "id": "Q2kOPhmtG288",
        "outputId": "d2a6627f-c53b-4c8c-84e7-82c97bd2c41f"
      },
      "outputs": [
        {
          "name": "stdout",
          "output_type": "stream",
          "text": [
            "['In', 'the', '22nd', 'century,', 'a', 'paraplegic', 'Marine', 'is', 'dispatched', 'to', 'the', 'moon', 'Pandora', 'on', 'a', 'unique', 'mission,', 'but', 'becomes', 'torn', 'between', 'following', 'orders', 'and', 'protecting', 'an', 'alien', 'civilization.', 'Action', 'Adventure', 'Fantasy', 'ScienceFiction', 'cultureclash', 'future', 'spacewar', 'spacecolony', 'society', 'spacetravel', 'futuristic', 'romance', 'space', 'alien', 'tribe', 'alienplanet', 'cgi', 'marine', 'soldier', 'battle', 'loveaffair', 'antiwar', 'powerrelations', 'mindandsoul', '3d', 'SamWorthington', 'ZoeSaldana', 'SigourneyWeaver', 'JamesCameron']\n",
            "   movie_id                                     title  \\\n",
            "0     19995                                    Avatar   \n",
            "1       285  Pirates of the Caribbean: At World's End   \n",
            "2    206647                                   Spectre   \n",
            "3     49026                     The Dark Knight Rises   \n",
            "4     49529                               John Carter   \n",
            "\n",
            "                                                tags  vote_average  popularity  \n",
            "0  [In, the, 22nd, century,, a, paraplegic, Marin...           7.2  150.437577  \n",
            "1  [Captain, Barbossa,, long, believed, to, be, d...           6.9  139.082615  \n",
            "2  [A, cryptic, message, from, Bond’s, past, send...           6.3  107.376788  \n",
            "3  [Following, the, death, of, District, Attorney...           7.6  112.312950  \n",
            "4  [John, Carter, is, a, war-weary,, former, mili...           6.1   43.926995  \n"
          ]
        },
        {
          "name": "stderr",
          "output_type": "stream",
          "text": [
            "C:\\Users\\User\\AppData\\Local\\Temp/ipykernel_5816/2569754252.py:18: SettingWithCopyWarning: \n",
            "A value is trying to be set on a copy of a slice from a DataFrame.\n",
            "Try using .loc[row_indexer,col_indexer] = value instead\n",
            "\n",
            "See the caveats in the documentation: https://pandas.pydata.org/pandas-docs/stable/user_guide/indexing.html#returning-a-view-versus-a-copy\n",
            "  df['tags'] = df['tags'].apply(lambda x: \" \".join(x))\n",
            "C:\\Users\\User\\AppData\\Local\\Temp/ipykernel_5816/2569754252.py:19: SettingWithCopyWarning: \n",
            "A value is trying to be set on a copy of a slice from a DataFrame.\n",
            "Try using .loc[row_indexer,col_indexer] = value instead\n",
            "\n",
            "See the caveats in the documentation: https://pandas.pydata.org/pandas-docs/stable/user_guide/indexing.html#returning-a-view-versus-a-copy\n",
            "  df['tags'] = df['tags'].apply(lambda x: x.lower())\n",
            "C:\\Users\\User\\AppData\\Local\\Temp/ipykernel_5816/2569754252.py:33: SettingWithCopyWarning: \n",
            "A value is trying to be set on a copy of a slice from a DataFrame.\n",
            "Try using .loc[row_indexer,col_indexer] = value instead\n",
            "\n",
            "See the caveats in the documentation: https://pandas.pydata.org/pandas-docs/stable/user_guide/indexing.html#returning-a-view-versus-a-copy\n",
            "  df['tags'] = df['tags'].apply(stem)\n"
          ]
        },
        {
          "name": "stdout",
          "output_type": "stream",
          "text": [
            "Title: Spider-Man 3 \n",
            "IMDb Rating: 5.9 \n",
            "Similarity 0.51\n",
            "Title: Spider-Man \n",
            "IMDb Rating: 6.8 \n",
            "Similarity 0.4\n",
            "Title: The Amazing Spider-Man \n",
            "IMDb Rating: 6.5 \n",
            "Similarity 0.35\n",
            "Title: Iron Man 2 \n",
            "IMDb Rating: 6.6 \n",
            "Similarity 0.28\n",
            "Title: Superman \n",
            "IMDb Rating: 6.9 \n",
            "Similarity 0.27\n",
            "Title: Deadpool \n",
            "IMDb Rating: 7.4 \n",
            "Similarity 0.26\n",
            "Title: Batman Batman \n",
            "IMDb Rating: 7.0 \n",
            "Similarity 0.26\n",
            "Title: Ant-Man \n",
            "IMDb Rating: 7.0 \n",
            "Similarity 0.26\n",
            "Title: All Is Lost \n",
            "IMDb Rating: 6.6 \n",
            "Similarity 0.26\n",
            "Title: The Amazing Spider-Man 2 \n",
            "IMDb Rating: 6.5 \n",
            "Similarity 0.26\n",
            "Title: Hancock \n",
            "IMDb Rating: 6.2 \n",
            "Similarity 0.26\n",
            "Title: Dungeons & Dragons: Wrath of the Dragon God \n",
            "IMDb Rating: 4.8 \n",
            "Similarity 0.26\n",
            "Title: The Legend of Hercules \n",
            "IMDb Rating: 4.4 \n",
            "Similarity 0.26\n",
            "Title: Big Fish \n",
            "IMDb Rating: 7.6 \n",
            "Similarity 0.25\n",
            "Title: Batman Batman \n",
            "IMDb Rating: 7.0 \n",
            "Similarity 0.25\n",
            "Title: Griff the Invisible \n",
            "IMDb Rating: 6.1 \n",
            "Similarity 0.25\n",
            "Title: In the Name of the King: A Dungeon Siege Tale \n",
            "IMDb Rating: 4.1 \n",
            "Similarity 0.25\n",
            "Title: The Incredibles \n",
            "IMDb Rating: 7.4 \n",
            "Similarity 0.24\n",
            "Title: Micmacs \n",
            "IMDb Rating: 6.8 \n",
            "Similarity 0.24\n"
          ]
        }
      ],
      "source": [
        "#Single movie: \n",
        "def singlemovie(model_movies_df,moviename,headnum,flag):\n",
        "  if flag == 'multiple':\n",
        "    model_movies_df['tags'] = model_movies_df['genres'] + model_movies_df['keywords']\n",
        "  if flag == 'single':\n",
        "    model_movies_df['tags'] = model_movies_df['overview'] + model_movies_df['genres'] + model_movies_df['keywords'] + model_movies_df['cast'] + model_movies_df['crew']\n",
        "  \n",
        "  df = model_movies_df[['movie_id','title','tags','vote_average','popularity']]\n",
        "  print(df.iloc[0]['tags'])\n",
        "  print(df.head())\n",
        "  \n",
        "  '''print(\"type\", df.dtypes)\n",
        "  \n",
        "  mylist = df.iloc[0]['tags']\n",
        "  print(\"type of mylist\", type(mylist))\n",
        "  print(\"type of mylist[0]\", type(mylist[0]))'''\n",
        "  \n",
        "  df['tags'] = df['tags'].apply(lambda x: \" \".join(x))\n",
        "  df['tags'] = df['tags'].apply(lambda x: x.lower())\n",
        "\n",
        "  #as we will see list of feature names we see - 'activity', 'activities' and such words are separate words\n",
        "  #To solve this problem, we do the following import - nltk (natural language processing library) and run the code: \n",
        "  #nltk has a root word for similar words (ex: danc for dancing, dance, danced etc)\n",
        "  import nltk\n",
        "  from nltk.stem.porter import PorterStemmer\n",
        "  psobj = PorterStemmer()\n",
        "  def stem(text):\n",
        "    temp = []\n",
        "    for i in text.split():\n",
        "      temp.append(psobj.stem(i))\n",
        "    return \" \".join(temp)\n",
        "\n",
        "  df['tags'] = df['tags'].apply(stem)\n",
        "  #till now df has movie_id, title, tags(as stemmed words) and vote_average\n",
        "\n",
        "  from sklearn.feature_extraction.text import CountVectorizer\n",
        "  cvobj = CountVectorizer(max_features=6000, stop_words='english')\n",
        "  vectors = cvobj.fit_transform(df['tags']).toarray() \n",
        "  #cvobj is a sci-py sparse matrix which we convert to a numpy array\n",
        "\n",
        "  #now we calculate the distance of every movie, with every other movie \n",
        "  #higher the distance, lesser similarity\n",
        "  #we do not calculate Euclid's distance, instead do the cosine distance method - angle between the two vectors\n",
        "  #scikit learn's function - cosinesimilarity\n",
        "  from sklearn.metrics.pairwise import cosine_similarity\n",
        "  similarity = cosine_similarity(vectors)\n",
        "\n",
        "  movie_index = df[df['title']==moviename].index[0]    #boolean masking\n",
        "  distances = similarity[movie_index]\n",
        "\n",
        "  '''\n",
        "  make a list of id,similarity,vote_average and make it a dict and iterate over it directly\n",
        "  movieidlist = [12,34,345,758,5,3455]\n",
        "  distance = [0.2,0.33,1,0.8,0.1,0.1]\n",
        "  movieimdblist = [7,6,8,9,6,8]\n",
        "  combinedlist = zip(distance, movieimdblist)\n",
        "  opdict = dict(zip(movieidlist,combinedlist))\n",
        "  print(opdict)\n",
        "  finaldict = sorted(opdict.items(), reverse=True, key=lambda x: (x[1][0],x[1][1]))\n",
        "  print(finaldict)\n",
        "  '''\n",
        "  recommendedlist = sorted(list(enumerate(distances)),reverse=True, key=lambda x:x[1])[1:headnum]\n",
        "  #enumerate with a list - list of the movie_ids of the dataframe\n",
        "\n",
        "  imdbrecommendedlist = []\n",
        "\n",
        "  for i in recommendedlist: #add the imdb rating for every element selected. \n",
        "    i = list(i)\n",
        "    i.append(df.iloc[i[0]]['vote_average'])   #adding imdb rating\n",
        "    i[0] = df.iloc[i[0]]['movie_id']\n",
        "    imdbrecommendedlist.append(i)\n",
        "\n",
        "\n",
        "  '''\n",
        "  print(\"Rec list\",recommendedlist)\n",
        "  print(\"__________________________________\")\n",
        "  print(\"Imdb rec list\",imdbrecommendedlist)\n",
        "  print(imdbrecommendedlist)\n",
        "  '''\n",
        "\n",
        "  roundimdblist = []\n",
        "  sortedimdblist = []\n",
        "  for i in imdbrecommendedlist:\n",
        "    roundimdblist.append([i[0],round(i[1],2),i[2]])\n",
        "  sortedimdblist = sorted(roundimdblist, reverse = True, key = lambda x: (x[1],x[2]))\n",
        "  \n",
        "  return sortedimdblist\n",
        "\n",
        "\n",
        "suggested_for_one_movie = singlemovie(model_movies_df,'Spider-Man 2',20,'single')\n",
        "#print(suggested_for_one_movie)\n",
        "\n",
        "for i in suggested_for_one_movie:\n",
        "  print(\"Title:\", \" \".join(model_movies_df[model_movies_df['movie_id']==i[0]].title.tolist()), \"\\nIMDb Rating:\", i[2],\"\\nSimilarity\", i[1])\n",
        "\n",
        "\n",
        "#returns a list of recommended movies, the elements of the list are the (movie_id, similarity and imdb rating)\n",
        "  \n",
        "  "
      ]
    },
    {
      "cell_type": "markdown",
      "metadata": {
        "id": "lmM6oAORxOOf"
      },
      "source": [
        "# Multiple movies input by user"
      ]
    },
    {
      "cell_type": "code",
      "execution_count": 5,
      "metadata": {
        "colab": {
          "base_uri": "https://localhost:8080/"
        },
        "id": "uQAfwOP7xXAJ",
        "outputId": "6ab1436b-e53d-4e19-fcfe-b81bcc06d26e"
      },
      "outputs": [
        {
          "name": "stderr",
          "output_type": "stream",
          "text": [
            "[nltk_data] Downloading package wordnet to\n",
            "[nltk_data]     C:\\Users\\User\\AppData\\Roaming\\nltk_data...\n",
            "[nltk_data]   Package wordnet is already up-to-date!\n"
          ]
        },
        {
          "name": "stdout",
          "output_type": "stream",
          "text": [
            "['Action', 'Adventure', 'Fantasy', 'ScienceFiction', 'cultureclash', 'future', 'spacewar', 'spacecolony', 'society', 'spacetravel', 'futuristic', 'romance', 'space', 'alien', 'tribe', 'alienplanet', 'cgi', 'marine', 'soldier', 'battle', 'loveaffair', 'antiwar', 'powerrelations', 'mindandsoul', '3d']\n",
            "   movie_id                                     title  \\\n",
            "0     19995                                    Avatar   \n",
            "1       285  Pirates of the Caribbean: At World's End   \n",
            "2    206647                                   Spectre   \n",
            "3     49026                     The Dark Knight Rises   \n",
            "4     49529                               John Carter   \n",
            "\n",
            "                                                tags  vote_average  popularity  \n",
            "0  [Action, Adventure, Fantasy, ScienceFiction, c...           7.2  150.437577  \n",
            "1  [Adventure, Fantasy, Action, ocean, drugabuse,...           6.9  139.082615  \n",
            "2  [Action, Adventure, Crime, spy, basedonnovel, ...           6.3  107.376788  \n",
            "3  [Action, Crime, Drama, Thriller, dccomics, cri...           7.6  112.312950  \n",
            "4  [Action, Adventure, ScienceFiction, basedonnov...           6.1   43.926995  \n"
          ]
        },
        {
          "name": "stderr",
          "output_type": "stream",
          "text": [
            "C:\\Users\\User\\AppData\\Local\\Temp/ipykernel_5816/2569754252.py:18: SettingWithCopyWarning: \n",
            "A value is trying to be set on a copy of a slice from a DataFrame.\n",
            "Try using .loc[row_indexer,col_indexer] = value instead\n",
            "\n",
            "See the caveats in the documentation: https://pandas.pydata.org/pandas-docs/stable/user_guide/indexing.html#returning-a-view-versus-a-copy\n",
            "  df['tags'] = df['tags'].apply(lambda x: \" \".join(x))\n",
            "C:\\Users\\User\\AppData\\Local\\Temp/ipykernel_5816/2569754252.py:19: SettingWithCopyWarning: \n",
            "A value is trying to be set on a copy of a slice from a DataFrame.\n",
            "Try using .loc[row_indexer,col_indexer] = value instead\n",
            "\n",
            "See the caveats in the documentation: https://pandas.pydata.org/pandas-docs/stable/user_guide/indexing.html#returning-a-view-versus-a-copy\n",
            "  df['tags'] = df['tags'].apply(lambda x: x.lower())\n",
            "C:\\Users\\User\\AppData\\Local\\Temp/ipykernel_5816/2569754252.py:33: SettingWithCopyWarning: \n",
            "A value is trying to be set on a copy of a slice from a DataFrame.\n",
            "Try using .loc[row_indexer,col_indexer] = value instead\n",
            "\n",
            "See the caveats in the documentation: https://pandas.pydata.org/pandas-docs/stable/user_guide/indexing.html#returning-a-view-versus-a-copy\n",
            "  df['tags'] = df['tags'].apply(stem)\n"
          ]
        },
        {
          "name": "stdout",
          "output_type": "stream",
          "text": [
            "['Action', 'Adventure', 'Fantasy', 'ScienceFiction', 'cultureclash', 'future', 'spacewar', 'spacecolony', 'society', 'spacetravel', 'futuristic', 'romance', 'space', 'alien', 'tribe', 'alienplanet', 'cgi', 'marine', 'soldier', 'battle', 'loveaffair', 'antiwar', 'powerrelations', 'mindandsoul', '3d']\n",
            "   movie_id                                     title  \\\n",
            "0     19995                                    Avatar   \n",
            "1       285  Pirates of the Caribbean: At World's End   \n",
            "2    206647                                   Spectre   \n",
            "3     49026                     The Dark Knight Rises   \n",
            "4     49529                               John Carter   \n",
            "\n",
            "                                                tags  vote_average  popularity  \n",
            "0  [Action, Adventure, Fantasy, ScienceFiction, c...           7.2  150.437577  \n",
            "1  [Adventure, Fantasy, Action, ocean, drugabuse,...           6.9  139.082615  \n",
            "2  [Action, Adventure, Crime, spy, basedonnovel, ...           6.3  107.376788  \n",
            "3  [Action, Crime, Drama, Thriller, dccomics, cri...           7.6  112.312950  \n",
            "4  [Action, Adventure, ScienceFiction, basedonnov...           6.1   43.926995  \n"
          ]
        },
        {
          "name": "stderr",
          "output_type": "stream",
          "text": [
            "C:\\Users\\User\\AppData\\Local\\Temp/ipykernel_5816/2569754252.py:18: SettingWithCopyWarning: \n",
            "A value is trying to be set on a copy of a slice from a DataFrame.\n",
            "Try using .loc[row_indexer,col_indexer] = value instead\n",
            "\n",
            "See the caveats in the documentation: https://pandas.pydata.org/pandas-docs/stable/user_guide/indexing.html#returning-a-view-versus-a-copy\n",
            "  df['tags'] = df['tags'].apply(lambda x: \" \".join(x))\n",
            "C:\\Users\\User\\AppData\\Local\\Temp/ipykernel_5816/2569754252.py:19: SettingWithCopyWarning: \n",
            "A value is trying to be set on a copy of a slice from a DataFrame.\n",
            "Try using .loc[row_indexer,col_indexer] = value instead\n",
            "\n",
            "See the caveats in the documentation: https://pandas.pydata.org/pandas-docs/stable/user_guide/indexing.html#returning-a-view-versus-a-copy\n",
            "  df['tags'] = df['tags'].apply(lambda x: x.lower())\n",
            "C:\\Users\\User\\AppData\\Local\\Temp/ipykernel_5816/2569754252.py:33: SettingWithCopyWarning: \n",
            "A value is trying to be set on a copy of a slice from a DataFrame.\n",
            "Try using .loc[row_indexer,col_indexer] = value instead\n",
            "\n",
            "See the caveats in the documentation: https://pandas.pydata.org/pandas-docs/stable/user_guide/indexing.html#returning-a-view-versus-a-copy\n",
            "  df['tags'] = df['tags'].apply(stem)\n",
            "C:\\Users\\User\\AppData\\Local\\Temp/ipykernel_5816/1015117941.py:58: SettingWithCopyWarning: \n",
            "A value is trying to be set on a copy of a slice from a DataFrame.\n",
            "Try using .loc[row_indexer,col_indexer] = value instead\n",
            "\n",
            "See the caveats in the documentation: https://pandas.pydata.org/pandas-docs/stable/user_guide/indexing.html#returning-a-view-versus-a-copy\n",
            "  new_df['tags'] = new_df['tags'].apply(functolist)\n",
            "C:\\Users\\User\\AppData\\Local\\Temp/ipykernel_5816/1015117941.py:59: SettingWithCopyWarning: \n",
            "A value is trying to be set on a copy of a slice from a DataFrame.\n",
            "Try using .loc[row_indexer,col_indexer] = value instead\n",
            "\n",
            "See the caveats in the documentation: https://pandas.pydata.org/pandas-docs/stable/user_guide/indexing.html#returning-a-view-versus-a-copy\n",
            "  new_df['tags'] = new_df['tags'].apply(stem)\n"
          ]
        },
        {
          "name": "stdout",
          "output_type": "stream",
          "text": [
            "[['The Fault in Our Stars', 7.6], ['Brigham City', 7.3], ['The Girl with the Dragon Tattoo', 7.2], ['The Three Burials of Melquiades Estrada', 7.0], ['Red Riding: In the Year of Our Lord 1974', 7.0], ['Beyond Borders', 6.7], ['Wicker Park', 6.7], ['Young Sherlock Holmes', 6.7], ['Mississippi Mermaid', 6.7], ['Kill the Messenger', 6.6], ['Inherent Vice', 6.5], ['The Mortal Instruments: City of Bones', 6.2], ['Hackers', 6.2], ['A Walk Among the Tombstones', 6.2], ['Secret in Their Eyes', 6.2], ['Paper Towns', 6.1], [\"Winter's Tale\", 6.0], ['Beastly', 6.0], ['City By The Sea', 5.7], ['Slow Burn', 5.5], ['Broken Horses', 5.0]]\n"
          ]
        }
      ],
      "source": [
        "#retrieve the tags(genre, overview, keywords) of all the movies and combine into one\n",
        "#then we perform the stemming of the tags\n",
        "\n",
        "import nltk\n",
        "from nltk.corpus import wordnet\n",
        "nltk.download('wordnet')\n",
        "\n",
        "def synonym(word):\n",
        "  synonyms = []\n",
        "  for syn in wordnet.synsets(word):\n",
        "    for l in syn.lemmas():\n",
        "      synonyms.append(l.name())\n",
        "  return synonyms\n",
        "\n",
        "from nltk.stem.porter import PorterStemmer\n",
        "psobj = PorterStemmer()\n",
        "def stem(text):\n",
        "  temp = []\n",
        "  for i in text.split():\n",
        "      temp.append(psobj.stem(i))\n",
        "  return \" \".join(temp)\n",
        "\n",
        "\n",
        "def functolist(lst):\n",
        "  return \" \".join(lst)\n",
        "\n",
        "\n",
        "def rec(df,multiplemovielist):\n",
        "  flag='multiple'\n",
        "  firstlevellist = []\n",
        "  '''creating the first movie list'''\n",
        "  for i in multiplemovielist: \n",
        "    firstlevellist.extend(singlemovie(model_movies_df,i,40,flag))\n",
        "\n",
        "  '''creating the tag_of_users_input_list and storing the ids of the original movies entered by user'''\n",
        "  movie_id_of_users_input_list = []   #movie_ids of the movies entered by the user\n",
        "  tag_of_users_input_list = []\n",
        "  for movie in multiplemovielist:\n",
        "    idofmovie = df[df['title']==movie]['movie_id'].item()\n",
        "    movie_id_of_users_input_list.append(idofmovie)\n",
        "    tag_of_users_input_list.append(stem(\" \".join(df[df['movie_id']==idofmovie]['tags'].item())))   \n",
        "    #the above list has n elements, where the user has entered n movies, and every element is the tag \n",
        "    #of a particular movie\n",
        "  #print(movie_id_of_users_input_list)\n",
        "  #print(tag_of_users_input_list)\n",
        "\n",
        "\n",
        "\n",
        "\n",
        "  '''storing the movie ids of the ovies in firstlevellist'''\n",
        "  movie_id_of_firstlevellist_movies = []\n",
        "  for i in firstlevellist:\n",
        "    movie_id_of_firstlevellist_movies.append(i[0])\n",
        "\n",
        "\n",
        "  \n",
        "  new_df = df[ df['movie_id'].isin(movie_id_of_firstlevellist_movies)] #indices of the firstlevellist.\n",
        "  new_df['tags'] = new_df['tags'].apply(functolist)\n",
        "  new_df['tags'] = new_df['tags'].apply(stem)\n",
        "\n",
        "  #print(new_df['title'])\n",
        "  #print(counters) \n",
        "\n",
        "\n",
        "  counterobjlist = []\n",
        "  newmovielist = []\n",
        "\n",
        "  for indicer in range(len(new_df)):     #for our example of two movies: 78 records, i.e 0 to 77\n",
        "    counters = np.zeros((len(tag_of_users_input_list),1))\n",
        "    for i in new_df.iloc[indicer]['tags'].split(): #for each word in every movie's tag (movies from new_df)\n",
        "      for j in range(len(tag_of_users_input_list)):    \n",
        "        #the above for loop is to check if any word of the current movie's tag, \n",
        "        #belongs to the tags of the movies entered by the user.\n",
        "        if (stem(i) in tag_of_users_input_list[j].split()) or (stem(\" \".join(synonym(i))) in tag_of_users_input_list[j].split()):\n",
        "          counters[j]+=1\n",
        "\n",
        "    if all(x>=1 for x in counters):\n",
        "      newmovielist.append([new_df.iloc[indicer]['title'], new_df.iloc[indicer]['vote_average']]) #combine with ratings\n",
        "      counterobjlist.append(counters)\n",
        "\n",
        "\n",
        "  print(sorted(newmovielist, reverse=True, key= lambda x: x[1])) #sort by ratings\n",
        "  #print(counterobjlist)\n",
        "\n",
        "  \n",
        "watchlist = ['Rush Hour 2', 'The Notebook']\n",
        "#rec(model_movies_df,watchlist)\n",
        "\n",
        "rec(model_movies_df,['Nerve', 'The Notebook']) \n",
        "\n",
        "# nerve - mystery, adventure, crime ; based on novel, technology, internet, hacking, teenager, newyork city, game, adaption, dare,\n",
        "# cellphone-video,based on yound adult novel, smartphone, taking a risk\n",
        "\n",
        "#notebook - romance, drama; poem, river, sadness, fight, love of one's life, dementia, class, secret love, tears, candle, mail-box\n",
        "\n",
        "#spider-man 2 - action, adventure, fantasy; dual identity, love of one's life, pizza boy, marvel comic, sequal super hero, doctor, scientist,\n",
        "# tenticle, death, super-villain\n",
        "\n",
        "\n",
        "#spider-man 3 - fantasy, action, adventure - [1,1,7] - 9\n",
        "#dragon blade - action, drama, adventure - [1,1,2] - 4\n",
        "#winter's tale - drama, fantasy, mystery, romance -[2,2,1] - 5\n",
        "#mississippi mermaid- crime, drama, romance - [1,3,1] - 5\n",
        "#The Mortal Instruments: City of Bones - action, adv, drama, mystery, romance, fantasy - [3,2,3] - 8\n",
        "#Beyond Borders - drama, romance, adventure, war - [1,3,2] - 6\n",
        "#Hackers- action, comedy - [4,1,1] - 6\n",
        "#wicker park - drama, mystery, romance, thriller - [1,3,1] - 5\n",
        "#young sherlock holmes - action, adventure, crime, drama, family, mystery, thriller - [3,1,2] - 6\n",
        "#beastly - drama, fantasy, romance - [3,2,1] - 6\n",
        "#The Three Burials of Melquiades Estrada - adventure, crime, mystery, drama, western - [3,1,1] - 5\n",
        "#In the Name of the King III - action, adventure, drama, fantasy - [1,1,3] - 5\n",
        "\n"
      ]
    },
    {
      "cell_type": "markdown",
      "metadata": {
        "id": "olN8Z5UfraZm"
      },
      "source": [
        "# Trail and Error Zone"
      ]
    },
    {
      "cell_type": "code",
      "execution_count": null,
      "metadata": {
        "colab": {
          "base_uri": "https://localhost:8080/"
        },
        "id": "WOCLDXdkG6pt",
        "outputId": "a911bf7d-013a-432c-fca0-239027cc3ba4"
      },
      "outputs": [
        {
          "data": {
            "text/plain": [
              "[3, 2, 3, 4, 2, 4, 1, 2, 10, 1, 2, 3, 4, 5, 6, 7, 8]"
            ]
          },
          "execution_count": 7,
          "metadata": {},
          "output_type": "execute_result"
        }
      ],
      "source": [
        "l1= [3,2,3,4,2,4,1,2,10]\n",
        "l1.extend([1,2,3,4])\n",
        "l1.extend([5,6,7,8])\n",
        "l1"
      ]
    },
    {
      "cell_type": "code",
      "execution_count": null,
      "metadata": {
        "colab": {
          "base_uri": "https://localhost:8080/",
          "height": 416
        },
        "id": "armmDgOzVvJe",
        "outputId": "344ca859-332b-4ec5-b7de-d8a51368f447"
      },
      "outputs": [
        {
          "data": {
            "text/html": [
              "\n",
              "  <div id=\"df-b9c14b35-af68-48ca-b405-f2c55037b227\">\n",
              "    <div class=\"colab-df-container\">\n",
              "      <div>\n",
              "<style scoped>\n",
              "    .dataframe tbody tr th:only-of-type {\n",
              "        vertical-align: middle;\n",
              "    }\n",
              "\n",
              "    .dataframe tbody tr th {\n",
              "        vertical-align: top;\n",
              "    }\n",
              "\n",
              "    .dataframe thead th {\n",
              "        text-align: right;\n",
              "    }\n",
              "</style>\n",
              "<table border=\"1\" class=\"dataframe\">\n",
              "  <thead>\n",
              "    <tr style=\"text-align: right;\">\n",
              "      <th></th>\n",
              "      <th>movie_id</th>\n",
              "      <th>title</th>\n",
              "      <th>overview</th>\n",
              "      <th>genres</th>\n",
              "      <th>keywords</th>\n",
              "      <th>cast</th>\n",
              "      <th>crew</th>\n",
              "      <th>vote_average</th>\n",
              "      <th>tags</th>\n",
              "    </tr>\n",
              "  </thead>\n",
              "  <tbody>\n",
              "    <tr>\n",
              "      <th>1</th>\n",
              "      <td>285</td>\n",
              "      <td>Pirates of the Caribbean: At World's End</td>\n",
              "      <td>[Captain, Barbossa,, long, believed, to, be, d...</td>\n",
              "      <td>[Adventure, Fantasy, Action]</td>\n",
              "      <td>[ocean, drugabuse, exoticisland, eastindiatrad...</td>\n",
              "      <td>[JohnnyDepp, OrlandoBloom, KeiraKnightley]</td>\n",
              "      <td>[GoreVerbinski]</td>\n",
              "      <td>6.9</td>\n",
              "      <td>[Captain, Barbossa,, long, believed, to, be, d...</td>\n",
              "    </tr>\n",
              "    <tr>\n",
              "      <th>2</th>\n",
              "      <td>206647</td>\n",
              "      <td>Spectre</td>\n",
              "      <td>[A, cryptic, message, from, Bond’s, past, send...</td>\n",
              "      <td>[Action, Adventure, Crime]</td>\n",
              "      <td>[spy, basedonnovel, secretagent, sequel, mi6, ...</td>\n",
              "      <td>[DanielCraig, ChristophWaltz, LéaSeydoux]</td>\n",
              "      <td>[SamMendes]</td>\n",
              "      <td>6.3</td>\n",
              "      <td>[A, cryptic, message, from, Bond’s, past, send...</td>\n",
              "    </tr>\n",
              "    <tr>\n",
              "      <th>3</th>\n",
              "      <td>49026</td>\n",
              "      <td>The Dark Knight Rises</td>\n",
              "      <td>[Following, the, death, of, District, Attorney...</td>\n",
              "      <td>[Action, Crime, Drama, Thriller]</td>\n",
              "      <td>[dccomics, crimefighter, terrorist, secretiden...</td>\n",
              "      <td>[ChristianBale, MichaelCaine, GaryOldman]</td>\n",
              "      <td>[ChristopherNolan]</td>\n",
              "      <td>7.6</td>\n",
              "      <td>[Following, the, death, of, District, Attorney...</td>\n",
              "    </tr>\n",
              "  </tbody>\n",
              "</table>\n",
              "</div>\n",
              "      <button class=\"colab-df-convert\" onclick=\"convertToInteractive('df-b9c14b35-af68-48ca-b405-f2c55037b227')\"\n",
              "              title=\"Convert this dataframe to an interactive table.\"\n",
              "              style=\"display:none;\">\n",
              "        \n",
              "  <svg xmlns=\"http://www.w3.org/2000/svg\" height=\"24px\"viewBox=\"0 0 24 24\"\n",
              "       width=\"24px\">\n",
              "    <path d=\"M0 0h24v24H0V0z\" fill=\"none\"/>\n",
              "    <path d=\"M18.56 5.44l.94 2.06.94-2.06 2.06-.94-2.06-.94-.94-2.06-.94 2.06-2.06.94zm-11 1L8.5 8.5l.94-2.06 2.06-.94-2.06-.94L8.5 2.5l-.94 2.06-2.06.94zm10 10l.94 2.06.94-2.06 2.06-.94-2.06-.94-.94-2.06-.94 2.06-2.06.94z\"/><path d=\"M17.41 7.96l-1.37-1.37c-.4-.4-.92-.59-1.43-.59-.52 0-1.04.2-1.43.59L10.3 9.45l-7.72 7.72c-.78.78-.78 2.05 0 2.83L4 21.41c.39.39.9.59 1.41.59.51 0 1.02-.2 1.41-.59l7.78-7.78 2.81-2.81c.8-.78.8-2.07 0-2.86zM5.41 20L4 18.59l7.72-7.72 1.47 1.35L5.41 20z\"/>\n",
              "  </svg>\n",
              "      </button>\n",
              "      \n",
              "  <style>\n",
              "    .colab-df-container {\n",
              "      display:flex;\n",
              "      flex-wrap:wrap;\n",
              "      gap: 12px;\n",
              "    }\n",
              "\n",
              "    .colab-df-convert {\n",
              "      background-color: #E8F0FE;\n",
              "      border: none;\n",
              "      border-radius: 50%;\n",
              "      cursor: pointer;\n",
              "      display: none;\n",
              "      fill: #1967D2;\n",
              "      height: 32px;\n",
              "      padding: 0 0 0 0;\n",
              "      width: 32px;\n",
              "    }\n",
              "\n",
              "    .colab-df-convert:hover {\n",
              "      background-color: #E2EBFA;\n",
              "      box-shadow: 0px 1px 2px rgba(60, 64, 67, 0.3), 0px 1px 3px 1px rgba(60, 64, 67, 0.15);\n",
              "      fill: #174EA6;\n",
              "    }\n",
              "\n",
              "    [theme=dark] .colab-df-convert {\n",
              "      background-color: #3B4455;\n",
              "      fill: #D2E3FC;\n",
              "    }\n",
              "\n",
              "    [theme=dark] .colab-df-convert:hover {\n",
              "      background-color: #434B5C;\n",
              "      box-shadow: 0px 1px 3px 1px rgba(0, 0, 0, 0.15);\n",
              "      filter: drop-shadow(0px 1px 2px rgba(0, 0, 0, 0.3));\n",
              "      fill: #FFFFFF;\n",
              "    }\n",
              "  </style>\n",
              "\n",
              "      <script>\n",
              "        const buttonEl =\n",
              "          document.querySelector('#df-b9c14b35-af68-48ca-b405-f2c55037b227 button.colab-df-convert');\n",
              "        buttonEl.style.display =\n",
              "          google.colab.kernel.accessAllowed ? 'block' : 'none';\n",
              "\n",
              "        async function convertToInteractive(key) {\n",
              "          const element = document.querySelector('#df-b9c14b35-af68-48ca-b405-f2c55037b227');\n",
              "          const dataTable =\n",
              "            await google.colab.kernel.invokeFunction('convertToInteractive',\n",
              "                                                     [key], {});\n",
              "          if (!dataTable) return;\n",
              "\n",
              "          const docLinkHtml = 'Like what you see? Visit the ' +\n",
              "            '<a target=\"_blank\" href=https://colab.research.google.com/notebooks/data_table.ipynb>data table notebook</a>'\n",
              "            + ' to learn more about interactive tables.';\n",
              "          element.innerHTML = '';\n",
              "          dataTable['output_type'] = 'display_data';\n",
              "          await google.colab.output.renderOutput(dataTable, element);\n",
              "          const docLink = document.createElement('div');\n",
              "          docLink.innerHTML = docLinkHtml;\n",
              "          element.appendChild(docLink);\n",
              "        }\n",
              "      </script>\n",
              "    </div>\n",
              "  </div>\n",
              "  "
            ],
            "text/plain": [
              "   movie_id  ...                                               tags\n",
              "1       285  ...  [Captain, Barbossa,, long, believed, to, be, d...\n",
              "2    206647  ...  [A, cryptic, message, from, Bond’s, past, send...\n",
              "3     49026  ...  [Following, the, death, of, District, Attorney...\n",
              "\n",
              "[3 rows x 9 columns]"
            ]
          },
          "execution_count": 9,
          "metadata": {},
          "output_type": "execute_result"
        }
      ],
      "source": [
        "model_movies_df.iloc[[1,2,3]]"
      ]
    },
    {
      "cell_type": "code",
      "execution_count": null,
      "metadata": {
        "colab": {
          "base_uri": "https://localhost:8080/"
        },
        "id": "5UPrANwgxz5n",
        "outputId": "e36f520b-2044-4c3b-8e64-37e3768964ed"
      },
      "outputs": [
        {
          "data": {
            "text/plain": [
              "movie_id                                                   328387\n",
              "title                                                       Nerve\n",
              "overview        [Industrious, high, school, senior,, Vee, Delm...\n",
              "genres                                [Mystery, Adventure, Crime]\n",
              "keywords        [basedonnovel, technology, internet, hacking, ...\n",
              "cast                        [EmmaRoberts, DaveFranco, EmilyMeade]\n",
              "crew                                                 [HenryJoost]\n",
              "vote_average                                                  7.1\n",
              "tags            [Industrious, high, school, senior,, Vee, Delm...\n",
              "Name: 2173, dtype: object"
            ]
          },
          "execution_count": 12,
          "metadata": {},
          "output_type": "execute_result"
        }
      ],
      "source": [
        "model_movies_df.iloc[2173]"
      ]
    },
    {
      "cell_type": "code",
      "execution_count": null,
      "metadata": {
        "colab": {
          "base_uri": "https://localhost:8080/",
          "height": 35
        },
        "id": "N2OwnXymZXK2",
        "outputId": "7f516f2c-ff02-46f1-e201-3c8dcbb9946d"
      },
      "outputs": [
        {
          "data": {
            "application/vnd.google.colaboratory.intrinsic+json": {
              "type": "string"
            },
            "text/plain": [
              "\"Pirates of the Caribbean: At World's End\""
            ]
          },
          "execution_count": 27,
          "metadata": {},
          "output_type": "execute_result"
        }
      ],
      "source": [
        "model_movies_df.loc[1].title"
      ]
    },
    {
      "cell_type": "code",
      "execution_count": null,
      "metadata": {
        "colab": {
          "base_uri": "https://localhost:8080/"
        },
        "id": "pzkms5ZSyTXQ",
        "outputId": "bef3a2df-e692-4533-e187-2e86dd9e783b"
      },
      "outputs": [
        {
          "name": "stdout",
          "output_type": "stream",
          "text": [
            "      movie_id  title  ...          crew vote_average\n",
            "2173    328387  Nerve  ...  [HenryJoost]          7.1\n",
            "\n",
            "[1 rows x 8 columns]\n"
          ]
        }
      ],
      "source": [
        "print(model_movies_df[model_movies_df['title']=='Nerve'])"
      ]
    },
    {
      "cell_type": "code",
      "execution_count": null,
      "metadata": {
        "id": "5Bz6UTLpZukI"
      },
      "outputs": [],
      "source": [
        "savedf = model_movies_df.loc[model_movies_df['title']=='Nerve']"
      ]
    },
    {
      "cell_type": "code",
      "execution_count": null,
      "metadata": {
        "colab": {
          "base_uri": "https://localhost:8080/"
        },
        "id": "QWQAGHOobHJn",
        "outputId": "c9b590c0-4416-437f-deb3-9d67189aad71"
      },
      "outputs": [
        {
          "name": "stdout",
          "output_type": "stream",
          "text": [
            "Nerve \n",
            "\n"
          ]
        }
      ],
      "source": [
        "indexx = savedf.index\n",
        "\n",
        "for i in savedf.loc[indexx].title:\n",
        "  print(i,\"\\n\")"
      ]
    },
    {
      "cell_type": "markdown",
      "metadata": {
        "id": "qANbAkYldR-u"
      },
      "source": [
        "####https://www.geeksforgeeks.org/python-pandas-series-item/"
      ]
    },
    {
      "cell_type": "code",
      "execution_count": null,
      "metadata": {
        "colab": {
          "base_uri": "https://localhost:8080/",
          "height": 35
        },
        "id": "PWnoamshcXli",
        "outputId": "d6329346-5711-46a7-dba1-1517a33b32dc"
      },
      "outputs": [
        {
          "data": {
            "application/vnd.google.colaboratory.intrinsic+json": {
              "type": "string"
            },
            "text/plain": [
              "'Nerve'"
            ]
          },
          "execution_count": 56,
          "metadata": {},
          "output_type": "execute_result"
        }
      ],
      "source": [
        "indexx = savedf.index\n",
        "savedf.loc[indexx].title.item()"
      ]
    },
    {
      "cell_type": "code",
      "execution_count": null,
      "metadata": {
        "colab": {
          "base_uri": "https://localhost:8080/"
        },
        "id": "g5jQwRAvcJ8T",
        "outputId": "05de2592-956b-4e78-8468-a5512565745c"
      },
      "outputs": [
        {
          "name": "stdout",
          "output_type": "stream",
          "text": [
            "['Nerve']\n"
          ]
        }
      ],
      "source": [
        "indexx = savedf.index\n",
        "somelist=[]\n",
        "for i in savedf.loc[indexx].title:\n",
        "  somelist.append(i)\n",
        "\n",
        "print(somelist)"
      ]
    },
    {
      "cell_type": "code",
      "execution_count": null,
      "metadata": {
        "colab": {
          "base_uri": "https://localhost:8080/",
          "height": 287
        },
        "id": "18hV3EibaTjU",
        "outputId": "273f786a-a0c4-43dd-f282-14ee7b2b8f8a"
      },
      "outputs": [
        {
          "ename": "AttributeError",
          "evalue": "ignored",
          "output_type": "error",
          "traceback": [
            "\u001b[0;31m---------------------------------------------------------------------------\u001b[0m",
            "\u001b[0;31mAttributeError\u001b[0m                            Traceback (most recent call last)",
            "\u001b[0;32m<ipython-input-37-102fa407ead3>\u001b[0m in \u001b[0;36m<module>\u001b[0;34m()\u001b[0m\n\u001b[0;32m----> 1\u001b[0;31m \u001b[0mmodel_movies_df\u001b[0m\u001b[0;34m.\u001b[0m\u001b[0mget_value\u001b[0m\u001b[0;34m(\u001b[0m\u001b[0mmodel_movies_df\u001b[0m\u001b[0;34m[\u001b[0m\u001b[0;34m'title'\u001b[0m\u001b[0;34m]\u001b[0m\u001b[0;34m==\u001b[0m\u001b[0;34m'Nerve'\u001b[0m\u001b[0;34m,\u001b[0m\u001b[0;34m'title'\u001b[0m\u001b[0;34m)\u001b[0m\u001b[0;34m\u001b[0m\u001b[0;34m\u001b[0m\u001b[0m\n\u001b[0m",
            "\u001b[0;32m/usr/local/lib/python3.7/dist-packages/pandas/core/generic.py\u001b[0m in \u001b[0;36m__getattr__\u001b[0;34m(self, name)\u001b[0m\n\u001b[1;32m   5139\u001b[0m             \u001b[0;32mif\u001b[0m \u001b[0mself\u001b[0m\u001b[0;34m.\u001b[0m\u001b[0m_info_axis\u001b[0m\u001b[0;34m.\u001b[0m\u001b[0m_can_hold_identifiers_and_holds_name\u001b[0m\u001b[0;34m(\u001b[0m\u001b[0mname\u001b[0m\u001b[0;34m)\u001b[0m\u001b[0;34m:\u001b[0m\u001b[0;34m\u001b[0m\u001b[0;34m\u001b[0m\u001b[0m\n\u001b[1;32m   5140\u001b[0m                 \u001b[0;32mreturn\u001b[0m \u001b[0mself\u001b[0m\u001b[0;34m[\u001b[0m\u001b[0mname\u001b[0m\u001b[0;34m]\u001b[0m\u001b[0;34m\u001b[0m\u001b[0;34m\u001b[0m\u001b[0m\n\u001b[0;32m-> 5141\u001b[0;31m             \u001b[0;32mreturn\u001b[0m \u001b[0mobject\u001b[0m\u001b[0;34m.\u001b[0m\u001b[0m__getattribute__\u001b[0m\u001b[0;34m(\u001b[0m\u001b[0mself\u001b[0m\u001b[0;34m,\u001b[0m \u001b[0mname\u001b[0m\u001b[0;34m)\u001b[0m\u001b[0;34m\u001b[0m\u001b[0;34m\u001b[0m\u001b[0m\n\u001b[0m\u001b[1;32m   5142\u001b[0m \u001b[0;34m\u001b[0m\u001b[0m\n\u001b[1;32m   5143\u001b[0m     \u001b[0;32mdef\u001b[0m \u001b[0m__setattr__\u001b[0m\u001b[0;34m(\u001b[0m\u001b[0mself\u001b[0m\u001b[0;34m,\u001b[0m \u001b[0mname\u001b[0m\u001b[0;34m:\u001b[0m \u001b[0mstr\u001b[0m\u001b[0;34m,\u001b[0m \u001b[0mvalue\u001b[0m\u001b[0;34m)\u001b[0m \u001b[0;34m->\u001b[0m \u001b[0;32mNone\u001b[0m\u001b[0;34m:\u001b[0m\u001b[0;34m\u001b[0m\u001b[0;34m\u001b[0m\u001b[0m\n",
            "\u001b[0;31mAttributeError\u001b[0m: 'DataFrame' object has no attribute 'get_value'"
          ]
        }
      ],
      "source": [
        "model_movies_df.get_value(model_movies_df['title']=='Nerve','title')"
      ]
    },
    {
      "cell_type": "code",
      "execution_count": null,
      "metadata": {
        "colab": {
          "base_uri": "https://localhost:8080/"
        },
        "id": "BcllqDFTW-DM",
        "outputId": "52dd1a84-f401-43a1-cf40-540d7abaeae2"
      },
      "outputs": [
        {
          "data": {
            "text/plain": [
              "(\"('2173', ' ', '   Nerve\\\\nName: title, dtype: object')\", '', '')"
            ]
          },
          "execution_count": 25,
          "metadata": {},
          "output_type": "execute_result"
        }
      ],
      "source": [
        "model_movies_df[model_movies_df['title']=='Nerve']['title']"
      ]
    },
    {
      "cell_type": "code",
      "execution_count": null,
      "metadata": {
        "colab": {
          "base_uri": "https://localhost:8080/",
          "height": 139
        },
        "id": "AzkvcIuRyY5e",
        "outputId": "759351c9-0c04-4678-def2-235590e5cecc"
      },
      "outputs": [
        {
          "data": {
            "application/vnd.google.colaboratory.intrinsic+json": {
              "type": "string"
            },
            "text/plain": [
              "'industri high school senior, vee delmonico, ha had it with live life on the sidelines. when pressur by friend to join the popular onlin game nerve, vee decid to sign up for just one dare in what seem like harmless fun. but as she find herself caught up in the thrill of the adrenaline-fuel competit partner with a mysteri stranger, the game begin to take a sinist turn with increasingli danger acts, lead her into a high stake final that will determin her entir future. mysteri adventur crime basedonnovel technolog internet hack teenag newyorkc game adapt dare cellphonevideo basedonyoungadultnovel smartphon takingarisk emmarobert davefranco emilymead henryjoost'"
            ]
          },
          "execution_count": 21,
          "metadata": {},
          "output_type": "execute_result"
        }
      ],
      "source": [
        "stem(\" \".join(model_movies_df.iloc[2173]['tags']))\n"
      ]
    },
    {
      "cell_type": "code",
      "execution_count": null,
      "metadata": {
        "colab": {
          "base_uri": "https://localhost:8080/",
          "height": 166
        },
        "id": "xXRgIXMIy-zQ",
        "outputId": "c1426210-e5bc-41cd-c9df-3b73b820b0c9"
      },
      "outputs": [
        {
          "ename": "NameError",
          "evalue": "ignored",
          "output_type": "error",
          "traceback": [
            "\u001b[0;31m---------------------------------------------------------------------------\u001b[0m",
            "\u001b[0;31mNameError\u001b[0m                                 Traceback (most recent call last)",
            "\u001b[0;32m<ipython-input-1-a0598049d2d6>\u001b[0m in \u001b[0;36m<module>\u001b[0;34m()\u001b[0m\n\u001b[0;32m----> 1\u001b[0;31m \u001b[0mmodel_movies_df\u001b[0m\u001b[0;34m[\u001b[0m\u001b[0mmodel_movies_df\u001b[0m\u001b[0;34m.\u001b[0m\u001b[0mindex\u001b[0m\u001b[0;34m[\u001b[0m\u001b[0;36m0\u001b[0m\u001b[0;34m]\u001b[0m\u001b[0;34m.\u001b[0m\u001b[0misin\u001b[0m\u001b[0;34m(\u001b[0m\u001b[0;34m[\u001b[0m\u001b[0;36m4425\u001b[0m\u001b[0;34m,\u001b[0m\u001b[0;36m89\u001b[0m\u001b[0;34m,\u001b[0m\u001b[0;36m183\u001b[0m\u001b[0;34m,\u001b[0m\u001b[0;36m4734\u001b[0m\u001b[0;34m]\u001b[0m\u001b[0;34m)\u001b[0m\u001b[0;34m]\u001b[0m\u001b[0;34m\u001b[0m\u001b[0;34m\u001b[0m\u001b[0m\n\u001b[0m",
            "\u001b[0;31mNameError\u001b[0m: name 'model_movies_df' is not defined"
          ]
        }
      ],
      "source": [
        "model_movies_df[model_movies_df.index[0].isin([4425,89,183,4734])]"
      ]
    },
    {
      "cell_type": "code",
      "execution_count": null,
      "metadata": {
        "id": "H6bOA8YjEFM8"
      },
      "outputs": [],
      "source": [
        "new =[]\n",
        "new.append(model_movies_df[model_movies_df['movie_id'] == 2662].title)"
      ]
    },
    {
      "cell_type": "code",
      "execution_count": null,
      "metadata": {
        "colab": {
          "base_uri": "https://localhost:8080/"
        },
        "id": "WmckwP0vJTO5",
        "outputId": "02da852d-0675-4439-ec17-81c753987328"
      },
      "outputs": [
        {
          "name": "stdout",
          "output_type": "stream",
          "text": [
            "3365    House of 1000 Corpses\n",
            "Name: title, dtype: object\n"
          ]
        }
      ],
      "source": [
        "for i in new:\n",
        "  print(i)"
      ]
    },
    {
      "cell_type": "code",
      "execution_count": null,
      "metadata": {
        "colab": {
          "base_uri": "https://localhost:8080/"
        },
        "id": "7MFatt9XJ1qU",
        "outputId": "1b054f86-97b9-4a18-ae34-8994b8ad02e9"
      },
      "outputs": [
        {
          "name": "stderr",
          "output_type": "stream",
          "text": [
            "/usr/local/lib/python3.7/dist-packages/ipykernel_launcher.py:7: SettingWithCopyWarning: \n",
            "A value is trying to be set on a copy of a slice from a DataFrame.\n",
            "Try using .loc[row_indexer,col_indexer] = value instead\n",
            "\n",
            "See the caveats in the documentation: https://pandas.pydata.org/pandas-docs/stable/user_guide/indexing.html#returning-a-view-versus-a-copy\n",
            "  import sys\n",
            "/usr/local/lib/python3.7/dist-packages/ipykernel_launcher.py:8: SettingWithCopyWarning: \n",
            "A value is trying to be set on a copy of a slice from a DataFrame.\n",
            "Try using .loc[row_indexer,col_indexer] = value instead\n",
            "\n",
            "See the caveats in the documentation: https://pandas.pydata.org/pandas-docs/stable/user_guide/indexing.html#returning-a-view-versus-a-copy\n",
            "  \n",
            "/usr/local/lib/python3.7/dist-packages/ipykernel_launcher.py:22: SettingWithCopyWarning: \n",
            "A value is trying to be set on a copy of a slice from a DataFrame.\n",
            "Try using .loc[row_indexer,col_indexer] = value instead\n",
            "\n",
            "See the caveats in the documentation: https://pandas.pydata.org/pandas-docs/stable/user_guide/indexing.html#returning-a-view-versus-a-copy\n"
          ]
        },
        {
          "name": "stdout",
          "output_type": "stream",
          "text": [
            "[[101179, 0.27431885848479565, 5.7], [80215, 0.24823978809252792, 7.4], [82690, 0.23932844901698533, 7.1], [101299, 0.22606462930422794, 7.4], [64688, 0.22233428588149948, 6.7], [18501, 0.2084200422875625, 5.6], [51130, 0.19215378456610457, 7.0], [157386, 0.1894661866862684, 6.8], [10069, 0.1889072881627786, 5.3]]\n"
          ]
        },
        {
          "name": "stderr",
          "output_type": "stream",
          "text": [
            "/usr/local/lib/python3.7/dist-packages/ipykernel_launcher.py:7: SettingWithCopyWarning: \n",
            "A value is trying to be set on a copy of a slice from a DataFrame.\n",
            "Try using .loc[row_indexer,col_indexer] = value instead\n",
            "\n",
            "See the caveats in the documentation: https://pandas.pydata.org/pandas-docs/stable/user_guide/indexing.html#returning-a-view-versus-a-copy\n",
            "  import sys\n",
            "/usr/local/lib/python3.7/dist-packages/ipykernel_launcher.py:8: SettingWithCopyWarning: \n",
            "A value is trying to be set on a copy of a slice from a DataFrame.\n",
            "Try using .loc[row_indexer,col_indexer] = value instead\n",
            "\n",
            "See the caveats in the documentation: https://pandas.pydata.org/pandas-docs/stable/user_guide/indexing.html#returning-a-view-versus-a-copy\n",
            "  \n",
            "/usr/local/lib/python3.7/dist-packages/ipykernel_launcher.py:22: SettingWithCopyWarning: \n",
            "A value is trying to be set on a copy of a slice from a DataFrame.\n",
            "Try using .loc[row_indexer,col_indexer] = value instead\n",
            "\n",
            "See the caveats in the documentation: https://pandas.pydata.org/pandas-docs/stable/user_guide/indexing.html#returning-a-view-versus-a-copy\n"
          ]
        },
        {
          "name": "stdout",
          "output_type": "stream",
          "text": [
            "[[4251, 0.30151134457776363, 7.4], [51384, 0.29268470350248177, 6.2], [293863, 0.29012942659282975, 7.4], [3060, 0.2849014411490949, 7.0], [1651, 0.2829125760578691, 6.7], [14608, 0.2825289656088067, 6.4], [41469, 0.26382242650554316, 6.0], [11889, 0.2611164839335468, 6.2], [597, 0.2528558164964056, 7.5]]\n",
            "[[101179, 0.27, 5.7], [80215, 0.25, 7.4], [82690, 0.24, 7.1], [101299, 0.23, 7.4], [64688, 0.22, 6.7], [18501, 0.21, 5.6], [51130, 0.19, 7.0], [157386, 0.19, 6.8], [10069, 0.19, 5.3], [4251, 0.3, 7.4], [293863, 0.29, 7.4], [51384, 0.29, 6.2], [3060, 0.28, 7.0], [1651, 0.28, 6.7], [14608, 0.28, 6.4], [11889, 0.26, 6.2], [41469, 0.26, 6.0], [597, 0.25, 7.5]]\n",
            "[101179, 0.27, 5.7]\n"
          ]
        }
      ],
      "source": [
        "firstlevellist = []\n",
        "for i in ['Nerve','The Notebook']: \n",
        "  firstlevellist.extend(singlemovie(model_movies_df,i))\n",
        "\n",
        "\n",
        "print(firstlevellist)\n",
        "print(firstlevellist[0])"
      ]
    },
    {
      "cell_type": "code",
      "execution_count": null,
      "metadata": {
        "colab": {
          "base_uri": "https://localhost:8080/"
        },
        "id": "aGOVbVKcm3eq",
        "outputId": "740a29d6-50c0-4603-d85a-a99863ce7a46"
      },
      "outputs": [
        {
          "name": "stdout",
          "output_type": "stream",
          "text": [
            "0    In the 22nd century, a parapleg marin is dispa...\n",
            "1    captain barbossa, long believ to be dead, ha c...\n",
            "2    A cryptic messag from bond’ past send him on a...\n",
            "Name: tags, dtype: object\n"
          ]
        }
      ],
      "source": [
        "import nltk\n",
        "from nltk.stem.porter import PorterStemmer\n",
        "psobj = PorterStemmer()\n",
        "def stem(lst):\n",
        "  temp = []\n",
        "  for i in lst:\n",
        "    temp.append(psobj.stem(i))\n",
        "  return \" \".join(temp)\n",
        "\n",
        "\n",
        "df = model_movies_df.head(3)\n",
        "print(df['tags'].apply(stem))\n"
      ]
    },
    {
      "cell_type": "code",
      "execution_count": null,
      "metadata": {
        "colab": {
          "base_uri": "https://localhost:8080/"
        },
        "id": "dQcFsr_CnJdT",
        "outputId": "e0467ca9-40e3-499d-9530-faa04e79c0ef"
      },
      "outputs": [
        {
          "name": "stdout",
          "output_type": "stream",
          "text": [
            "   movie_id  ...              tags\n",
            "0     19995  ...  [this, is, tag1]\n",
            "1       285  ...  [this, is, tag2]\n",
            "2    206647  ...  [this, is, tag3]\n",
            "\n",
            "[3 rows x 9 columns]\n",
            "   movie_id  ...         tags\n",
            "0     19995  ...  thi is tag1\n",
            "1       285  ...  thi is tag2\n",
            "2    206647  ...  thi is tag3\n",
            "\n",
            "[3 rows x 9 columns]\n"
          ]
        },
        {
          "name": "stderr",
          "output_type": "stream",
          "text": [
            "/usr/local/lib/python3.7/dist-packages/ipykernel_launcher.py:14: SettingWithCopyWarning: \n",
            "A value is trying to be set on a copy of a slice from a DataFrame.\n",
            "Try using .loc[row_indexer,col_indexer] = value instead\n",
            "\n",
            "See the caveats in the documentation: https://pandas.pydata.org/pandas-docs/stable/user_guide/indexing.html#returning-a-view-versus-a-copy\n",
            "  \n",
            "/usr/local/lib/python3.7/dist-packages/ipykernel_launcher.py:22: SettingWithCopyWarning: \n",
            "A value is trying to be set on a copy of a slice from a DataFrame.\n",
            "Try using .loc[row_indexer,col_indexer] = value instead\n",
            "\n",
            "See the caveats in the documentation: https://pandas.pydata.org/pandas-docs/stable/user_guide/indexing.html#returning-a-view-versus-a-copy\n",
            "/usr/local/lib/python3.7/dist-packages/ipykernel_launcher.py:24: SettingWithCopyWarning: \n",
            "A value is trying to be set on a copy of a slice from a DataFrame.\n",
            "Try using .loc[row_indexer,col_indexer] = value instead\n",
            "\n",
            "See the caveats in the documentation: https://pandas.pydata.org/pandas-docs/stable/user_guide/indexing.html#returning-a-view-versus-a-copy\n"
          ]
        }
      ],
      "source": [
        "import nltk\n",
        "from nltk.stem.porter import PorterStemmer\n",
        "psobj = PorterStemmer()\n",
        "def stem(text):\n",
        "  temp = []\n",
        "  for i in text.split():\n",
        "    temp.append(psobj.stem(i))\n",
        "  return \" \".join(temp) \n",
        "\n",
        "\n",
        "df1 = model_movies_df.head(3)\n",
        "\n",
        "\n",
        "df1['tags'] = [['this','is','tag1'],['this','is','tag2'],['this','is','tag3']]\n",
        "print(df1)\n",
        "\n",
        "#print(\"Type: \", type(df.tags))\n",
        "\n",
        "def functolist(lst):\n",
        "  return \" \".join(lst)\n",
        "\n",
        "df1['tags'] = df1['tags'].apply(functolist)\n",
        "#print(df1)\n",
        "df1['tags'] = df1['tags'].apply(stem)\n",
        "print(df1)\n",
        "\n",
        "#print(df.head().tags)\")"
      ]
    },
    {
      "cell_type": "code",
      "execution_count": null,
      "metadata": {
        "colab": {
          "base_uri": "https://localhost:8080/",
          "height": 1000
        },
        "id": "YZaQe3cJo7sv",
        "outputId": "d1c5f766-3dec-4119-bfe4-e73a9d246552"
      },
      "outputs": [
        {
          "data": {
            "text/html": [
              "\n",
              "  <div id=\"df-408e7ecd-c639-4f5a-9eae-bd73a082979c\">\n",
              "    <div class=\"colab-df-container\">\n",
              "      <div>\n",
              "<style scoped>\n",
              "    .dataframe tbody tr th:only-of-type {\n",
              "        vertical-align: middle;\n",
              "    }\n",
              "\n",
              "    .dataframe tbody tr th {\n",
              "        vertical-align: top;\n",
              "    }\n",
              "\n",
              "    .dataframe thead th {\n",
              "        text-align: right;\n",
              "    }\n",
              "</style>\n",
              "<table border=\"1\" class=\"dataframe\">\n",
              "  <thead>\n",
              "    <tr style=\"text-align: right;\">\n",
              "      <th></th>\n",
              "      <th>movie_id</th>\n",
              "      <th>title</th>\n",
              "      <th>overview</th>\n",
              "      <th>genres</th>\n",
              "      <th>keywords</th>\n",
              "      <th>cast</th>\n",
              "      <th>crew</th>\n",
              "      <th>vote_average</th>\n",
              "    </tr>\n",
              "  </thead>\n",
              "  <tbody>\n",
              "    <tr>\n",
              "      <th>0</th>\n",
              "      <td>19995</td>\n",
              "      <td>Avatar</td>\n",
              "      <td>[In, the, 22nd, century,, a, paraplegic, Marin...</td>\n",
              "      <td>[Action, Adventure, Fantasy, ScienceFiction]</td>\n",
              "      <td>[cultureclash, future, spacewar, spacecolony, ...</td>\n",
              "      <td>[SamWorthington, ZoeSaldana, SigourneyWeaver]</td>\n",
              "      <td>[JamesCameron]</td>\n",
              "      <td>7.2</td>\n",
              "    </tr>\n",
              "    <tr>\n",
              "      <th>1</th>\n",
              "      <td>285</td>\n",
              "      <td>Pirates of the Caribbean: At World's End</td>\n",
              "      <td>[Captain, Barbossa,, long, believed, to, be, d...</td>\n",
              "      <td>[Adventure, Fantasy, Action]</td>\n",
              "      <td>[ocean, drugabuse, exoticisland, eastindiatrad...</td>\n",
              "      <td>[JohnnyDepp, OrlandoBloom, KeiraKnightley]</td>\n",
              "      <td>[GoreVerbinski]</td>\n",
              "      <td>6.9</td>\n",
              "    </tr>\n",
              "    <tr>\n",
              "      <th>2</th>\n",
              "      <td>206647</td>\n",
              "      <td>Spectre</td>\n",
              "      <td>[A, cryptic, message, from, Bond’s, past, send...</td>\n",
              "      <td>[Action, Adventure, Crime]</td>\n",
              "      <td>[spy, basedonnovel, secretagent, sequel, mi6, ...</td>\n",
              "      <td>[DanielCraig, ChristophWaltz, LéaSeydoux]</td>\n",
              "      <td>[SamMendes]</td>\n",
              "      <td>6.3</td>\n",
              "    </tr>\n",
              "    <tr>\n",
              "      <th>3</th>\n",
              "      <td>49026</td>\n",
              "      <td>The Dark Knight Rises</td>\n",
              "      <td>[Following, the, death, of, District, Attorney...</td>\n",
              "      <td>[Action, Crime, Drama, Thriller]</td>\n",
              "      <td>[dccomics, crimefighter, terrorist, secretiden...</td>\n",
              "      <td>[ChristianBale, MichaelCaine, GaryOldman]</td>\n",
              "      <td>[ChristopherNolan]</td>\n",
              "      <td>7.6</td>\n",
              "    </tr>\n",
              "    <tr>\n",
              "      <th>4</th>\n",
              "      <td>49529</td>\n",
              "      <td>John Carter</td>\n",
              "      <td>[John, Carter, is, a, war-weary,, former, mili...</td>\n",
              "      <td>[Action, Adventure, ScienceFiction]</td>\n",
              "      <td>[basedonnovel, mars, medallion, spacetravel, p...</td>\n",
              "      <td>[TaylorKitsch, LynnCollins, SamanthaMorton]</td>\n",
              "      <td>[AndrewStanton]</td>\n",
              "      <td>6.1</td>\n",
              "    </tr>\n",
              "    <tr>\n",
              "      <th>...</th>\n",
              "      <td>...</td>\n",
              "      <td>...</td>\n",
              "      <td>...</td>\n",
              "      <td>...</td>\n",
              "      <td>...</td>\n",
              "      <td>...</td>\n",
              "      <td>...</td>\n",
              "      <td>...</td>\n",
              "    </tr>\n",
              "    <tr>\n",
              "      <th>4804</th>\n",
              "      <td>9367</td>\n",
              "      <td>El Mariachi</td>\n",
              "      <td>[El, Mariachi, just, wants, to, play, his, gui...</td>\n",
              "      <td>[Action, Crime, Thriller]</td>\n",
              "      <td>[unitedstates–mexicobarrier, legs, arms, paper...</td>\n",
              "      <td>[CarlosGallardo, JaimedeHoyos, PeterMarquardt]</td>\n",
              "      <td>[RobertRodriguez]</td>\n",
              "      <td>6.6</td>\n",
              "    </tr>\n",
              "    <tr>\n",
              "      <th>4805</th>\n",
              "      <td>72766</td>\n",
              "      <td>Newlyweds</td>\n",
              "      <td>[A, newlywed, couple's, honeymoon, is, upended...</td>\n",
              "      <td>[Comedy, Romance]</td>\n",
              "      <td>[]</td>\n",
              "      <td>[EdwardBurns, KerryBishé, MarshaDietlein]</td>\n",
              "      <td>[EdwardBurns]</td>\n",
              "      <td>5.9</td>\n",
              "    </tr>\n",
              "    <tr>\n",
              "      <th>4806</th>\n",
              "      <td>231617</td>\n",
              "      <td>Signed, Sealed, Delivered</td>\n",
              "      <td>[\"Signed,, Sealed,, Delivered\", introduces, a,...</td>\n",
              "      <td>[Comedy, Drama, Romance, TVMovie]</td>\n",
              "      <td>[date, loveatfirstsight, narration, investigat...</td>\n",
              "      <td>[EricMabius, KristinBooth, CrystalLowe]</td>\n",
              "      <td>[ScottSmith]</td>\n",
              "      <td>7.0</td>\n",
              "    </tr>\n",
              "    <tr>\n",
              "      <th>4807</th>\n",
              "      <td>126186</td>\n",
              "      <td>Shanghai Calling</td>\n",
              "      <td>[When, ambitious, New, York, attorney, Sam, is...</td>\n",
              "      <td>[]</td>\n",
              "      <td>[]</td>\n",
              "      <td>[DanielHenney, ElizaCoupe, BillPaxton]</td>\n",
              "      <td>[DanielHsia]</td>\n",
              "      <td>5.7</td>\n",
              "    </tr>\n",
              "    <tr>\n",
              "      <th>4808</th>\n",
              "      <td>25975</td>\n",
              "      <td>My Date with Drew</td>\n",
              "      <td>[Ever, since, the, second, grade, when, he, fi...</td>\n",
              "      <td>[Documentary]</td>\n",
              "      <td>[obsession, camcorder, crush, dreamgirl]</td>\n",
              "      <td>[DrewBarrymore, BrianHerzlinger, CoreyFeldman]</td>\n",
              "      <td>[BrianHerzlinger]</td>\n",
              "      <td>6.3</td>\n",
              "    </tr>\n",
              "  </tbody>\n",
              "</table>\n",
              "<p>4806 rows × 8 columns</p>\n",
              "</div>\n",
              "      <button class=\"colab-df-convert\" onclick=\"convertToInteractive('df-408e7ecd-c639-4f5a-9eae-bd73a082979c')\"\n",
              "              title=\"Convert this dataframe to an interactive table.\"\n",
              "              style=\"display:none;\">\n",
              "        \n",
              "  <svg xmlns=\"http://www.w3.org/2000/svg\" height=\"24px\"viewBox=\"0 0 24 24\"\n",
              "       width=\"24px\">\n",
              "    <path d=\"M0 0h24v24H0V0z\" fill=\"none\"/>\n",
              "    <path d=\"M18.56 5.44l.94 2.06.94-2.06 2.06-.94-2.06-.94-.94-2.06-.94 2.06-2.06.94zm-11 1L8.5 8.5l.94-2.06 2.06-.94-2.06-.94L8.5 2.5l-.94 2.06-2.06.94zm10 10l.94 2.06.94-2.06 2.06-.94-2.06-.94-.94-2.06-.94 2.06-2.06.94z\"/><path d=\"M17.41 7.96l-1.37-1.37c-.4-.4-.92-.59-1.43-.59-.52 0-1.04.2-1.43.59L10.3 9.45l-7.72 7.72c-.78.78-.78 2.05 0 2.83L4 21.41c.39.39.9.59 1.41.59.51 0 1.02-.2 1.41-.59l7.78-7.78 2.81-2.81c.8-.78.8-2.07 0-2.86zM5.41 20L4 18.59l7.72-7.72 1.47 1.35L5.41 20z\"/>\n",
              "  </svg>\n",
              "      </button>\n",
              "      \n",
              "  <style>\n",
              "    .colab-df-container {\n",
              "      display:flex;\n",
              "      flex-wrap:wrap;\n",
              "      gap: 12px;\n",
              "    }\n",
              "\n",
              "    .colab-df-convert {\n",
              "      background-color: #E8F0FE;\n",
              "      border: none;\n",
              "      border-radius: 50%;\n",
              "      cursor: pointer;\n",
              "      display: none;\n",
              "      fill: #1967D2;\n",
              "      height: 32px;\n",
              "      padding: 0 0 0 0;\n",
              "      width: 32px;\n",
              "    }\n",
              "\n",
              "    .colab-df-convert:hover {\n",
              "      background-color: #E2EBFA;\n",
              "      box-shadow: 0px 1px 2px rgba(60, 64, 67, 0.3), 0px 1px 3px 1px rgba(60, 64, 67, 0.15);\n",
              "      fill: #174EA6;\n",
              "    }\n",
              "\n",
              "    [theme=dark] .colab-df-convert {\n",
              "      background-color: #3B4455;\n",
              "      fill: #D2E3FC;\n",
              "    }\n",
              "\n",
              "    [theme=dark] .colab-df-convert:hover {\n",
              "      background-color: #434B5C;\n",
              "      box-shadow: 0px 1px 3px 1px rgba(0, 0, 0, 0.15);\n",
              "      filter: drop-shadow(0px 1px 2px rgba(0, 0, 0, 0.3));\n",
              "      fill: #FFFFFF;\n",
              "    }\n",
              "  </style>\n",
              "\n",
              "      <script>\n",
              "        const buttonEl =\n",
              "          document.querySelector('#df-408e7ecd-c639-4f5a-9eae-bd73a082979c button.colab-df-convert');\n",
              "        buttonEl.style.display =\n",
              "          google.colab.kernel.accessAllowed ? 'block' : 'none';\n",
              "\n",
              "        async function convertToInteractive(key) {\n",
              "          const element = document.querySelector('#df-408e7ecd-c639-4f5a-9eae-bd73a082979c');\n",
              "          const dataTable =\n",
              "            await google.colab.kernel.invokeFunction('convertToInteractive',\n",
              "                                                     [key], {});\n",
              "          if (!dataTable) return;\n",
              "\n",
              "          const docLinkHtml = 'Like what you see? Visit the ' +\n",
              "            '<a target=\"_blank\" href=https://colab.research.google.com/notebooks/data_table.ipynb>data table notebook</a>'\n",
              "            + ' to learn more about interactive tables.';\n",
              "          element.innerHTML = '';\n",
              "          dataTable['output_type'] = 'display_data';\n",
              "          await google.colab.output.renderOutput(dataTable, element);\n",
              "          const docLink = document.createElement('div');\n",
              "          docLink.innerHTML = docLinkHtml;\n",
              "          element.appendChild(docLink);\n",
              "        }\n",
              "      </script>\n",
              "    </div>\n",
              "  </div>\n",
              "  "
            ],
            "text/plain": [
              "      movie_id  ... vote_average\n",
              "0        19995  ...          7.2\n",
              "1          285  ...          6.9\n",
              "2       206647  ...          6.3\n",
              "3        49026  ...          7.6\n",
              "4        49529  ...          6.1\n",
              "...        ...  ...          ...\n",
              "4804      9367  ...          6.6\n",
              "4805     72766  ...          5.9\n",
              "4806    231617  ...          7.0\n",
              "4807    126186  ...          5.7\n",
              "4808     25975  ...          6.3\n",
              "\n",
              "[4806 rows x 8 columns]"
            ]
          },
          "execution_count": 84,
          "metadata": {},
          "output_type": "execute_result"
        }
      ],
      "source": [
        "model_movies_df"
      ]
    },
    {
      "cell_type": "code",
      "execution_count": null,
      "metadata": {
        "colab": {
          "base_uri": "https://localhost:8080/"
        },
        "id": "bTbd6oFZWTPU",
        "outputId": "224e2866-6a1b-4f01-f7df-454ead96978e"
      },
      "outputs": [
        {
          "name": "stdout",
          "output_type": "stream",
          "text": [
            "Collecting wordnet\n",
            "  Downloading wordnet-0.0.1b2.tar.gz (8.8 kB)\n",
            "Collecting colorama==0.3.9\n",
            "  Downloading colorama-0.3.9-py2.py3-none-any.whl (20 kB)\n",
            "Building wheels for collected packages: wordnet\n",
            "  Building wheel for wordnet (setup.py) ... \u001b[?25l\u001b[?25hdone\n",
            "  Created wheel for wordnet: filename=wordnet-0.0.1b2-py3-none-any.whl size=10520 sha256=25fe168f7e6aa4999e374f76316d001a8bfca4e6761ad27c346f234d6bbf2f45\n",
            "  Stored in directory: /root/.cache/pip/wheels/8c/6d/01/fbf1762cd6428569ea48474660f9cfe029307cd6c0f2abcdec\n",
            "Successfully built wordnet\n",
            "Installing collected packages: colorama, wordnet\n",
            "Successfully installed colorama-0.3.9 wordnet-0.0.1b2\n"
          ]
        }
      ],
      "source": [
        "!pip install wordnet\n"
      ]
    },
    {
      "cell_type": "code",
      "execution_count": null,
      "metadata": {
        "id": "aBzca3tHWvf1"
      },
      "outputs": [],
      "source": [
        "import nltk"
      ]
    },
    {
      "cell_type": "code",
      "execution_count": null,
      "metadata": {
        "colab": {
          "base_uri": "https://localhost:8080/"
        },
        "id": "0MZn7LAVWfaY",
        "outputId": "5df2a992-cc07-4080-e68d-5fdc19710d0d"
      },
      "outputs": [
        {
          "name": "stdout",
          "output_type": "stream",
          "text": [
            "[nltk_data] Downloading package wordnet to /root/nltk_data...\n",
            "[nltk_data]   Package wordnet is already up-to-date!\n"
          ]
        },
        {
          "data": {
            "text/plain": [
              "True"
            ]
          },
          "execution_count": 4,
          "metadata": {},
          "output_type": "execute_result"
        }
      ],
      "source": [
        "from nltk.corpus import wordnet \n",
        "nltk.download('wordnet')"
      ]
    },
    {
      "cell_type": "code",
      "execution_count": null,
      "metadata": {
        "colab": {
          "base_uri": "https://localhost:8080/"
        },
        "id": "7IlqW2vEWksl",
        "outputId": "72d09aaa-c72f-4002-e9b4-3316e05c9ce3"
      },
      "outputs": [
        {
          "data": {
            "text/plain": [
              "[Synset('action.n.01'),\n",
              " Synset('action.n.02'),\n",
              " Synset('military_action.n.01'),\n",
              " Synset('natural_process.n.01'),\n",
              " Synset('action.n.05'),\n",
              " Synset('action.n.06'),\n",
              " Synset('action.n.07'),\n",
              " Synset('legal_action.n.01'),\n",
              " Synset('action.n.09'),\n",
              " Synset('action.n.10'),\n",
              " Synset('action.v.01'),\n",
              " Synset('carry_through.v.01')]"
            ]
          },
          "execution_count": 18,
          "metadata": {},
          "output_type": "execute_result"
        }
      ],
      "source": [
        "wordnet.synsets('action')"
      ]
    },
    {
      "cell_type": "code",
      "execution_count": null,
      "metadata": {
        "colab": {
          "base_uri": "https://localhost:8080/"
        },
        "id": "i0GCVBUyY5Cu",
        "outputId": "a5224e1e-a670-4772-bdf4-b42b7dd77f1a"
      },
      "outputs": [
        {
          "name": "stdout",
          "output_type": "stream",
          "text": [
            "[nltk_data] Downloading package wordnet to /root/nltk_data...\n",
            "[nltk_data]   Package wordnet is already up-to-date!\n",
            "['eighties', '1980s']\n"
          ]
        }
      ],
      "source": [
        "nltk.download('wordnet')\n",
        "\n",
        "\n",
        "def synn(word):\n",
        "  synonyms = []\n",
        "  for syn in wordnet.synsets(word):\n",
        "    for l in syn.lemmas():\n",
        "      synonyms.append(l.name())\n",
        "  return synonyms\n",
        "\n",
        "synnn = synn(\"1980s\")\n",
        "print(synnn)"
      ]
    },
    {
      "cell_type": "code",
      "execution_count": null,
      "metadata": {
        "colab": {
          "base_uri": "https://localhost:8080/"
        },
        "id": "M96efCo_xWLd",
        "outputId": "c67a6573-903a-485b-e63b-825db20e437c"
      },
      "outputs": [
        {
          "data": {
            "text/plain": [
              "[Synset('town.n.01'),\n",
              " Synset('town.n.02'),\n",
              " Synset('township.n.01'),\n",
              " Synset('town.n.04')]"
            ]
          },
          "execution_count": 96,
          "metadata": {},
          "output_type": "execute_result"
        }
      ],
      "source": [
        "wordnet.synsets('town')"
      ]
    },
    {
      "cell_type": "code",
      "execution_count": null,
      "metadata": {
        "colab": {
          "base_uri": "https://localhost:8080/"
        },
        "id": "VcEE9DxnyQ6M",
        "outputId": "196fe16c-92a0-4e29-80fe-c0f05f39fc33"
      },
      "outputs": [
        {
          "name": "stdout",
          "output_type": "stream",
          "text": [
            "['town', 'town', 'townspeople', 'townsfolk', 'township', 'town', 'Town', 'Ithiel_Town']\n"
          ]
        }
      ],
      "source": [
        "townsyn = synn('town')\n",
        "print(townsyn)"
      ]
    },
    {
      "cell_type": "code",
      "execution_count": null,
      "metadata": {
        "colab": {
          "base_uri": "https://localhost:8080/"
        },
        "id": "IZ-ced5ayjEq",
        "outputId": "072d1f97-e46b-4a6d-cd59-0f29b58b61fb"
      },
      "outputs": [
        {
          "data": {
            "text/plain": [
              "['girl',\n",
              " 'miss',\n",
              " 'missy',\n",
              " 'young_lady',\n",
              " 'young_woman',\n",
              " 'fille',\n",
              " 'female_child',\n",
              " 'girl',\n",
              " 'little_girl',\n",
              " 'daughter',\n",
              " 'girl',\n",
              " 'girlfriend',\n",
              " 'girl',\n",
              " 'lady_friend',\n",
              " 'girl']"
            ]
          },
          "execution_count": 98,
          "metadata": {},
          "output_type": "execute_result"
        }
      ],
      "source": [
        "synn('girl')"
      ]
    },
    {
      "cell_type": "code",
      "execution_count": null,
      "metadata": {
        "colab": {
          "base_uri": "https://localhost:8080/"
        },
        "id": "KFRmVTOoZv3H",
        "outputId": "9b2266ea-ddf3-4eec-c6b8-40c6cbf2f711"
      },
      "outputs": [
        {
          "name": "stdout",
          "output_type": "stream",
          "text": [
            "   movie_id  ...                                               tags\n",
            "0     19995  ...  [In, the, 22nd, century,, a, paraplegic, Marin...\n",
            "\n",
            "[1 rows x 9 columns]\n",
            "   movie_id  ...                                               tags\n",
            "1       285  ...  [Captain, Barbossa,, long, believed, to, be, d...\n",
            "\n",
            "[1 rows x 9 columns]\n",
            "   movie_id  ...                                               tags\n",
            "2    206647  ...  [A, cryptic, message, from, Bond’s, past, send...\n",
            "\n",
            "[1 rows x 9 columns]\n"
          ]
        }
      ],
      "source": [
        "for indicer in range(len(model_movies_df.head(3))):\n",
        "  print(model_movies_df.iloc[[indicer]])"
      ]
    },
    {
      "cell_type": "code",
      "execution_count": null,
      "metadata": {
        "colab": {
          "base_uri": "https://localhost:8080/"
        },
        "id": "aDHWc2Ea4oVI",
        "outputId": "e3780e03-2b43-42f0-e81b-2b446ea2644b"
      },
      "outputs": [
        {
          "name": "stdout",
          "output_type": "stream",
          "text": [
            "0    [In, the, 22nd, century,, a, paraplegic, Marin...\n",
            "Name: tags, dtype: object\n",
            "<class 'pandas.core.series.Series'>\n"
          ]
        }
      ],
      "source": [
        "print(model_movies_df.iloc[[0]]['tags'])\n",
        "print(type(model_movies_df.iloc[[0]]['tags']))"
      ]
    },
    {
      "cell_type": "code",
      "execution_count": null,
      "metadata": {
        "colab": {
          "base_uri": "https://localhost:8080/"
        },
        "id": "8bknqiiv6c5F",
        "outputId": "688180a3-f048-4d08-8fff-3621f1d49c09"
      },
      "outputs": [
        {
          "name": "stdout",
          "output_type": "stream",
          "text": [
            "[[1 1 1]\n",
            " [1 1 1]]\n",
            "\n",
            "\n",
            "\n",
            "[[1 1 1]\n",
            " [1 1 1]]\n",
            "\n",
            "\n",
            "\n",
            "[[1 1 1]\n",
            " [1 1 1]]\n",
            "\n",
            "\n",
            "\n"
          ]
        }
      ],
      "source": [
        "#creating a list of numpy array objects? \n",
        "numpyobjlist = [] \n",
        "import numpy as np \n",
        "\n",
        "for i in range(3):\n",
        "  arrayy = np.full((2,3),1)\n",
        "  numpyobjlist.append(arrayy)\n",
        "\n",
        "for i in range(3):\n",
        "  print(numpyobjlist[i])\n",
        "  print(\"\\n\\n\")"
      ]
    },
    {
      "cell_type": "code",
      "execution_count": null,
      "metadata": {
        "colab": {
          "base_uri": "https://localhost:8080/"
        },
        "id": "w6PtH8vJlySo",
        "outputId": "81bae4dd-3be4-47a6-ec20-c1281b03f285"
      },
      "outputs": [
        {
          "name": "stdout",
          "output_type": "stream",
          "text": [
            "[nltk_data] Downloading package stopwords to /root/nltk_data...\n",
            "[nltk_data]   Package stopwords is already up-to-date!\n",
            "[nltk_data] Downloading package punkt to /root/nltk_data...\n",
            "[nltk_data]   Package punkt is already up-to-date!\n",
            "small town girl caught dead-end job . high-profil , success man becom wheelchair bound follow accid . man decid life worth live girl hire six month new caretak . world apart trap togeth circumst , two get rocki start . but girl becom determin prove man life worth live embark seri adventur togeth , find world chang way neither could begin imagin . drama , romanc . england base novel depress small town wheelchair caretak caregiv disabl twenti someth woman director romant drama dead end job accid\n"
          ]
        }
      ],
      "source": [
        "newinput = []\n",
        "inputt = \"A small town girl is caught between dead-end jobs. A high-profile, successful man becomes wheelchair bound following an accident. The man decides his life is not worth living until the girl is hired for six months to be his new caretaker. Worlds apart and trapped together by circumstance, the two get off to a rocky start. But the girl becomes determined to prove to the man that life is worth living and as they embark on a series of adventures together, each finds their world changing in ways neither of them could begin to imagine. Drama, Romance. England based on novel depression small town wheelchair caretaker caregiver disabled twenty something woman director romantic drama dead end job accident\"\n",
        "from nltk.corpus import stopwords\n",
        "nltk.download('stopwords')\n",
        "nltk.download('punkt')\n",
        "from nltk.tokenize import word_tokenize\n",
        "text_tokens = word_tokenize(inputt)\n",
        "\n",
        "all_stopwords = stopwords.words('english')\n",
        "all_stopwords.extend(['a','A','an','An','the','The'])\n",
        "\n",
        "newinput = [x for x in text_tokens if x not in all_stopwords]\n",
        "\n",
        "\n",
        "print(stem(\" \".join(newinput)))\n"
      ]
    },
    {
      "cell_type": "code",
      "execution_count": null,
      "metadata": {
        "id": "6r92hI3hwRqd"
      },
      "outputs": [],
      "source": [
        "'''\n",
        "Rush Hour 3 - action, comedy, crime, thriller\n",
        "Rush Hour 2 - action, comedy, crime, thriller\n",
        "Ganster Squad - crime, drama, action, thriller\n",
        "Edge of Darkness - crime, drama, mystery, thriller\n",
        "The International - drama, thriller, crime\n",
        "Run All Night - action, crime, drama, mystery, thriller\n",
        "Dream House - drama, thriller, mystery\n",
        "The Adventures of Ford Fairlane - action, comedy, thriller, crime, mystery\n",
        "The Bone Collector - drama, mystery, thriller, crime\n",
        "The Pledge - drama, mystery, thriller, crime\n",
        "Kiss of Death - action, crime, drama, thriller\n",
        "Midnight in the Garden of Good and Evil - crime, drama, mystery, thriller\n",
        "Blood Ties - thriller, crime, drama\n",
        "Faster - crime, drama, action, thriller\n",
        "Zulu - crime, drama, thriller\n",
        "Slow Burn - mystery, crime, drama, thriller\n",
        "The Son of No One - drama, thriller, crime\n",
        "Broken Horses - thriller, mystery, drama, crime\n",
        "The Caveman's Valentine - drama, mystery, thriller\n",
        "Stoker - drama, horror, thriller\n",
        "The Life Before Her Eyes - thriller, drama, mystery\n",
        "Trash - adventure, crime, drama, thriller\n",
        "Raising Cain - drama, horror, thriller, crime\n",
        "Red Riding: In the Year of Our Lord 1974 - thriller, mystery, crime, drama\n",
        "Clay Pigeons - comedy, crime, drama, thriller\n",
        "Betty Fisher and Other Stories - drama, thriller, crime, foreign\n",
        "In Too Deep - drama, action, thriller, crime\n",
        "Goddess of Love - mystery, drama, thriller, horror\n",
        "Novocaine - comedy, crime, thriller\n",
        "Zero Effect - comedy, crime, mystery, thriller\n",
        "Kill the Messenger - thiller, crime, drama, mystery\n",
        "Easy Money - drama, thriller, crime\n",
        "Harper - action, drama, thriller, crime, mystery\n",
        "Freeze Frame - thriller, drama, crime\n",
        "Nine Dead - crime, drama, horror, thriller\n",
        "N-secure - drama, crime, thriller\n",
        "The Blue Room - drama, crime, thriller\n",
        "Brigham City - crime, drama, mystery, thriller\n",
        "The Sound and The Shadow - thriller, comedy, mystery\n",
        "Adulterers - thriller, crime, drama\n",
        "Dutch Kills - thriller, crime, drama\n",
        "Compliance - thriller, crime, drama\n",
        "'''"
      ]
    },
    {
      "cell_type": "code",
      "execution_count": 7,
      "metadata": {},
      "outputs": [
        {
          "name": "stderr",
          "output_type": "stream",
          "text": [
            "[nltk_data] Downloading package wordnet to\n",
            "[nltk_data]     C:\\Users\\User\\AppData\\Roaming\\nltk_data...\n",
            "[nltk_data]   Package wordnet is already up-to-date!\n",
            "C:\\Users\\User\\AppData\\Local\\Temp/ipykernel_7360/2569754252.py:18: SettingWithCopyWarning: \n",
            "A value is trying to be set on a copy of a slice from a DataFrame.\n",
            "Try using .loc[row_indexer,col_indexer] = value instead\n",
            "\n",
            "See the caveats in the documentation: https://pandas.pydata.org/pandas-docs/stable/user_guide/indexing.html#returning-a-view-versus-a-copy\n",
            "  df['tags'] = df['tags'].apply(lambda x: \" \".join(x))\n",
            "C:\\Users\\User\\AppData\\Local\\Temp/ipykernel_7360/2569754252.py:19: SettingWithCopyWarning: \n",
            "A value is trying to be set on a copy of a slice from a DataFrame.\n",
            "Try using .loc[row_indexer,col_indexer] = value instead\n",
            "\n",
            "See the caveats in the documentation: https://pandas.pydata.org/pandas-docs/stable/user_guide/indexing.html#returning-a-view-versus-a-copy\n",
            "  df['tags'] = df['tags'].apply(lambda x: x.lower())\n"
          ]
        },
        {
          "name": "stdout",
          "output_type": "stream",
          "text": [
            "['Action', 'Adventure', 'Fantasy', 'ScienceFiction', 'cultureclash', 'future', 'spacewar', 'spacecolony', 'society', 'spacetravel', 'futuristic', 'romance', 'space', 'alien', 'tribe', 'alienplanet', 'cgi', 'marine', 'soldier', 'battle', 'loveaffair', 'antiwar', 'powerrelations', 'mindandsoul', '3d']\n",
            "   movie_id                                     title  \\\n",
            "0     19995                                    Avatar   \n",
            "1       285  Pirates of the Caribbean: At World's End   \n",
            "2    206647                                   Spectre   \n",
            "3     49026                     The Dark Knight Rises   \n",
            "4     49529                               John Carter   \n",
            "\n",
            "                                                tags  vote_average  popularity  \n",
            "0  [Action, Adventure, Fantasy, ScienceFiction, c...           7.2  150.437577  \n",
            "1  [Adventure, Fantasy, Action, ocean, drugabuse,...           6.9  139.082615  \n",
            "2  [Action, Adventure, Crime, spy, basedonnovel, ...           6.3  107.376788  \n",
            "3  [Action, Crime, Drama, Thriller, dccomics, cri...           7.6  112.312950  \n",
            "4  [Action, Adventure, ScienceFiction, basedonnov...           6.1   43.926995  \n"
          ]
        },
        {
          "name": "stderr",
          "output_type": "stream",
          "text": [
            "C:\\Users\\User\\AppData\\Local\\Temp/ipykernel_7360/2569754252.py:33: SettingWithCopyWarning: \n",
            "A value is trying to be set on a copy of a slice from a DataFrame.\n",
            "Try using .loc[row_indexer,col_indexer] = value instead\n",
            "\n",
            "See the caveats in the documentation: https://pandas.pydata.org/pandas-docs/stable/user_guide/indexing.html#returning-a-view-versus-a-copy\n",
            "  df['tags'] = df['tags'].apply(stem)\n"
          ]
        },
        {
          "name": "stdout",
          "output_type": "stream",
          "text": [
            "['Action', 'Adventure', 'Fantasy', 'ScienceFiction', 'cultureclash', 'future', 'spacewar', 'spacecolony', 'society', 'spacetravel', 'futuristic', 'romance', 'space', 'alien', 'tribe', 'alienplanet', 'cgi', 'marine', 'soldier', 'battle', 'loveaffair', 'antiwar', 'powerrelations', 'mindandsoul', '3d']\n",
            "   movie_id                                     title  \\\n",
            "0     19995                                    Avatar   \n",
            "1       285  Pirates of the Caribbean: At World's End   \n",
            "2    206647                                   Spectre   \n",
            "3     49026                     The Dark Knight Rises   \n",
            "4     49529                               John Carter   \n",
            "\n",
            "                                                tags  vote_average  popularity  \n",
            "0  [Action, Adventure, Fantasy, ScienceFiction, c...           7.2  150.437577  \n",
            "1  [Adventure, Fantasy, Action, ocean, drugabuse,...           6.9  139.082615  \n",
            "2  [Action, Adventure, Crime, spy, basedonnovel, ...           6.3  107.376788  \n",
            "3  [Action, Crime, Drama, Thriller, dccomics, cri...           7.6  112.312950  \n",
            "4  [Action, Adventure, ScienceFiction, basedonnov...           6.1   43.926995  \n"
          ]
        },
        {
          "name": "stderr",
          "output_type": "stream",
          "text": [
            "C:\\Users\\User\\AppData\\Local\\Temp/ipykernel_7360/2569754252.py:18: SettingWithCopyWarning: \n",
            "A value is trying to be set on a copy of a slice from a DataFrame.\n",
            "Try using .loc[row_indexer,col_indexer] = value instead\n",
            "\n",
            "See the caveats in the documentation: https://pandas.pydata.org/pandas-docs/stable/user_guide/indexing.html#returning-a-view-versus-a-copy\n",
            "  df['tags'] = df['tags'].apply(lambda x: \" \".join(x))\n",
            "C:\\Users\\User\\AppData\\Local\\Temp/ipykernel_7360/2569754252.py:19: SettingWithCopyWarning: \n",
            "A value is trying to be set on a copy of a slice from a DataFrame.\n",
            "Try using .loc[row_indexer,col_indexer] = value instead\n",
            "\n",
            "See the caveats in the documentation: https://pandas.pydata.org/pandas-docs/stable/user_guide/indexing.html#returning-a-view-versus-a-copy\n",
            "  df['tags'] = df['tags'].apply(lambda x: x.lower())\n",
            "C:\\Users\\User\\AppData\\Local\\Temp/ipykernel_7360/2569754252.py:33: SettingWithCopyWarning: \n",
            "A value is trying to be set on a copy of a slice from a DataFrame.\n",
            "Try using .loc[row_indexer,col_indexer] = value instead\n",
            "\n",
            "See the caveats in the documentation: https://pandas.pydata.org/pandas-docs/stable/user_guide/indexing.html#returning-a-view-versus-a-copy\n",
            "  df['tags'] = df['tags'].apply(stem)\n"
          ]
        },
        {
          "name": "stdout",
          "output_type": "stream",
          "text": [
            "['Action', 'Adventure', 'Fantasy', 'ScienceFiction', 'cultureclash', 'future', 'spacewar', 'spacecolony', 'society', 'spacetravel', 'futuristic', 'romance', 'space', 'alien', 'tribe', 'alienplanet', 'cgi', 'marine', 'soldier', 'battle', 'loveaffair', 'antiwar', 'powerrelations', 'mindandsoul', '3d']\n",
            "   movie_id                                     title  \\\n",
            "0     19995                                    Avatar   \n",
            "1       285  Pirates of the Caribbean: At World's End   \n",
            "2    206647                                   Spectre   \n",
            "3     49026                     The Dark Knight Rises   \n",
            "4     49529                               John Carter   \n",
            "\n",
            "                                                tags  vote_average  popularity  \n",
            "0  [Action, Adventure, Fantasy, ScienceFiction, c...           7.2  150.437577  \n",
            "1  [Adventure, Fantasy, Action, ocean, drugabuse,...           6.9  139.082615  \n",
            "2  [Action, Adventure, Crime, spy, basedonnovel, ...           6.3  107.376788  \n",
            "3  [Action, Crime, Drama, Thriller, dccomics, cri...           7.6  112.312950  \n",
            "4  [Action, Adventure, ScienceFiction, basedonnov...           6.1   43.926995  \n"
          ]
        },
        {
          "name": "stderr",
          "output_type": "stream",
          "text": [
            "C:\\Users\\User\\AppData\\Local\\Temp/ipykernel_7360/2569754252.py:18: SettingWithCopyWarning: \n",
            "A value is trying to be set on a copy of a slice from a DataFrame.\n",
            "Try using .loc[row_indexer,col_indexer] = value instead\n",
            "\n",
            "See the caveats in the documentation: https://pandas.pydata.org/pandas-docs/stable/user_guide/indexing.html#returning-a-view-versus-a-copy\n",
            "  df['tags'] = df['tags'].apply(lambda x: \" \".join(x))\n",
            "C:\\Users\\User\\AppData\\Local\\Temp/ipykernel_7360/2569754252.py:19: SettingWithCopyWarning: \n",
            "A value is trying to be set on a copy of a slice from a DataFrame.\n",
            "Try using .loc[row_indexer,col_indexer] = value instead\n",
            "\n",
            "See the caveats in the documentation: https://pandas.pydata.org/pandas-docs/stable/user_guide/indexing.html#returning-a-view-versus-a-copy\n",
            "  df['tags'] = df['tags'].apply(lambda x: x.lower())\n",
            "C:\\Users\\User\\AppData\\Local\\Temp/ipykernel_7360/2569754252.py:33: SettingWithCopyWarning: \n",
            "A value is trying to be set on a copy of a slice from a DataFrame.\n",
            "Try using .loc[row_indexer,col_indexer] = value instead\n",
            "\n",
            "See the caveats in the documentation: https://pandas.pydata.org/pandas-docs/stable/user_guide/indexing.html#returning-a-view-versus-a-copy\n",
            "  df['tags'] = df['tags'].apply(stem)\n"
          ]
        },
        {
          "name": "stdout",
          "output_type": "stream",
          "text": [
            "['Action', 'Adventure', 'Fantasy', 'ScienceFiction', 'cultureclash', 'future', 'spacewar', 'spacecolony', 'society', 'spacetravel', 'futuristic', 'romance', 'space', 'alien', 'tribe', 'alienplanet', 'cgi', 'marine', 'soldier', 'battle', 'loveaffair', 'antiwar', 'powerrelations', 'mindandsoul', '3d']\n",
            "   movie_id                                     title  \\\n",
            "0     19995                                    Avatar   \n",
            "1       285  Pirates of the Caribbean: At World's End   \n",
            "2    206647                                   Spectre   \n",
            "3     49026                     The Dark Knight Rises   \n",
            "4     49529                               John Carter   \n",
            "\n",
            "                                                tags  vote_average  popularity  \n",
            "0  [Action, Adventure, Fantasy, ScienceFiction, c...           7.2  150.437577  \n",
            "1  [Adventure, Fantasy, Action, ocean, drugabuse,...           6.9  139.082615  \n",
            "2  [Action, Adventure, Crime, spy, basedonnovel, ...           6.3  107.376788  \n",
            "3  [Action, Crime, Drama, Thriller, dccomics, cri...           7.6  112.312950  \n",
            "4  [Action, Adventure, ScienceFiction, basedonnov...           6.1   43.926995  \n"
          ]
        },
        {
          "name": "stderr",
          "output_type": "stream",
          "text": [
            "C:\\Users\\User\\AppData\\Local\\Temp/ipykernel_7360/2569754252.py:18: SettingWithCopyWarning: \n",
            "A value is trying to be set on a copy of a slice from a DataFrame.\n",
            "Try using .loc[row_indexer,col_indexer] = value instead\n",
            "\n",
            "See the caveats in the documentation: https://pandas.pydata.org/pandas-docs/stable/user_guide/indexing.html#returning-a-view-versus-a-copy\n",
            "  df['tags'] = df['tags'].apply(lambda x: \" \".join(x))\n",
            "C:\\Users\\User\\AppData\\Local\\Temp/ipykernel_7360/2569754252.py:19: SettingWithCopyWarning: \n",
            "A value is trying to be set on a copy of a slice from a DataFrame.\n",
            "Try using .loc[row_indexer,col_indexer] = value instead\n",
            "\n",
            "See the caveats in the documentation: https://pandas.pydata.org/pandas-docs/stable/user_guide/indexing.html#returning-a-view-versus-a-copy\n",
            "  df['tags'] = df['tags'].apply(lambda x: x.lower())\n",
            "C:\\Users\\User\\AppData\\Local\\Temp/ipykernel_7360/2569754252.py:33: SettingWithCopyWarning: \n",
            "A value is trying to be set on a copy of a slice from a DataFrame.\n",
            "Try using .loc[row_indexer,col_indexer] = value instead\n",
            "\n",
            "See the caveats in the documentation: https://pandas.pydata.org/pandas-docs/stable/user_guide/indexing.html#returning-a-view-versus-a-copy\n",
            "  df['tags'] = df['tags'].apply(stem)\n",
            "C:\\Users\\User\\AppData\\Local\\Temp/ipykernel_7360/1501489839.py:43: SettingWithCopyWarning: \n",
            "A value is trying to be set on a copy of a slice from a DataFrame.\n",
            "Try using .loc[row_indexer,col_indexer] = value instead\n",
            "\n",
            "See the caveats in the documentation: https://pandas.pydata.org/pandas-docs/stable/user_guide/indexing.html#returning-a-view-versus-a-copy\n",
            "  new_df['tags'] = new_df['tags'].apply(functolist)\n",
            "C:\\Users\\User\\AppData\\Local\\Temp/ipykernel_7360/1501489839.py:44: SettingWithCopyWarning: \n",
            "A value is trying to be set on a copy of a slice from a DataFrame.\n",
            "Try using .loc[row_indexer,col_indexer] = value instead\n",
            "\n",
            "See the caveats in the documentation: https://pandas.pydata.org/pandas-docs/stable/user_guide/indexing.html#returning-a-view-versus-a-copy\n",
            "  new_df['tags'] = new_df['tags'].apply(stem)\n"
          ]
        },
        {
          "name": "stdout",
          "output_type": "stream",
          "text": [
            "[['Brigham City', 7.3], ['Red Riding: In the Year of Our Lord 1974', 7.0], ['Betty Fisher and Other Stories', 7.0], ['Zulu', 6.7], ['Stoker', 6.5], ['Easy Money', 6.5], ['The Swindle', 6.4], ['Severance', 6.4], ['Compliance', 6.3], ['In Too Deep', 6.2], ['Goddess of Love', 6.2], ['Faster', 6.1], ['The International', 6.0], ['Blood Ties', 6.0], ['Raising Cain', 5.9], ['Some Guy Who Kills People', 5.7], ['I Know What You Did Last Summer', 5.6], ['White Noise 2: The Light', 5.6], ['The Whole Ten Yards', 5.5], ['Slow Burn', 5.5], ['Nine Dead', 5.2], ['Adulterers', 5.2], ['Broken Horses', 5.0], ['We Have Your Husband', 5.0], ['The Son of No One', 4.8], ['Thr3e', 4.8], ['N-Secure', 4.3], ['Amnesiac', 4.1], ['#Horror', 3.3], ['Windsor Drive', 2.0], ['The Sound and the Shadow', 0.0], ['Dutch Kills', 0.0], ['Sanctuary: Quite a Conundrum', 0.0]]\n"
          ]
        }
      ],
      "source": [
        "\n",
        "#retrieve the tags(genre, overview, keywords) of all the movies and combine into one\n",
        "#then we perform the stemming of the tags\n",
        "\n",
        "import nltk\n",
        "from nltk.corpus import wordnet\n",
        "nltk.download('wordnet')\n",
        "\n",
        "def synonym(word):\n",
        "  synonyms = []\n",
        "  for syn in wordnet.synsets(word):\n",
        "    for l in syn.lemmas():\n",
        "      synonyms.append(l.name())\n",
        "  return synonyms\n",
        "\n",
        "from nltk.stem.porter import PorterStemmer\n",
        "psobj = PorterStemmer()\n",
        "def stem(text):\n",
        "  temp = []\n",
        "  for i in text.split():\n",
        "      temp.append(psobj.stem(i))\n",
        "  return \" \".join(temp)\n",
        "\n",
        "\n",
        "def functolist(lst):\n",
        "  return \" \".join(lst)\n",
        "\n",
        "\n",
        "def rec(df,multiplemovielist):\n",
        "  flag='multiple'\n",
        "  firstlevellist = []\n",
        "  for i in multiplemovielist: \n",
        "    firstlevellist.extend(singlemovie(model_movies_df,i,40,flag))\n",
        "  movie_id_of_users_input_list = []   #movie_ids of the movies entered by the user\n",
        "  tag_of_users_input_list = []\n",
        "  for movie in multiplemovielist:\n",
        "    idofmovie = df[df['title']==movie]['movie_id'].item()\n",
        "    movie_id_of_users_input_list.append(idofmovie)\n",
        "    tag_of_users_input_list.append(stem(\" \".join(df[df['movie_id']==idofmovie]['tags'].item())))   \n",
        "  movie_id_of_firstlevellist_movies = []\n",
        "  for i in firstlevellist:\n",
        "    movie_id_of_firstlevellist_movies.append(i[0])\n",
        "  new_df = df[ df['movie_id'].isin(movie_id_of_firstlevellist_movies)] #indices of the firstlevellist.\n",
        "  new_df['tags'] = new_df['tags'].apply(functolist)\n",
        "  new_df['tags'] = new_df['tags'].apply(stem)\n",
        "\n",
        "  counterobjlist = []\n",
        "  newmovielist = []\n",
        "\n",
        "  for indicer in range(len(new_df)):     #for our example of two movies: 78 records, i.e 0 to 77\n",
        "    counters = np.zeros((len(tag_of_users_input_list),1))\n",
        "    for i in new_df.iloc[indicer]['tags'].split(): #for each word in every movie's tag (movies from new_df)\n",
        "      for j in range(len(tag_of_users_input_list)):    \n",
        "        #the above for loop is to check if any word of the current movie's tag, \n",
        "        #belongs to the tags of the movies entered by the user.\n",
        "        if (stem(i) in tag_of_users_input_list[j].split()) or (stem(\" \".join(synonym(i))) in tag_of_users_input_list[j].split()):\n",
        "          counters[j]+=1\n",
        "\n",
        "    if all(x>=1 for x in counters):\n",
        "      newmovielist.append([new_df.iloc[indicer]['title'], new_df.iloc[indicer]['vote_average']])\n",
        "      counterobjlist.append(counters)\n",
        "\n",
        "\n",
        "  return sorted(newmovielist, reverse=True, key= lambda x: x[1])\n",
        "\n",
        "sorted_movie_list = rec(model_movies_df,['Urban Legend','Snatch','LOL','Devil']) \n",
        "print(sorted_movie_list)"
      ]
    },
    {
      "cell_type": "code",
      "execution_count": null,
      "metadata": {},
      "outputs": [],
      "source": []
    }
  ],
  "metadata": {
    "colab": {
      "collapsed_sections": [],
      "name": "contentbased.ipynb",
      "provenance": []
    },
    "kernelspec": {
      "display_name": "Python 3.9.0 64-bit",
      "language": "python",
      "name": "python3"
    },
    "language_info": {
      "codemirror_mode": {
        "name": "ipython",
        "version": 3
      },
      "file_extension": ".py",
      "mimetype": "text/x-python",
      "name": "python",
      "nbconvert_exporter": "python",
      "pygments_lexer": "ipython3",
      "version": "3.9.0"
    },
    "vscode": {
      "interpreter": {
        "hash": "f2f5ffe2fa7db87b5a7975993874d14ef767f1bbfdb7ad1555cfad9ae0587ac0"
      }
    }
  },
  "nbformat": 4,
  "nbformat_minor": 0
}
